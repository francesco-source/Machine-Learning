{
  "nbformat": 4,
  "nbformat_minor": 0,
  "metadata": {
    "colab": {
      "provenance": [],
      "authorship_tag": "ABX9TyOtkVFoGsRRSBGA0iDa3N1B",
      "include_colab_link": true
    },
    "kernelspec": {
      "name": "python3",
      "display_name": "Python 3"
    },
    "language_info": {
      "name": "python"
    }
  },
  "cells": [
    {
      "cell_type": "markdown",
      "metadata": {
        "id": "view-in-github",
        "colab_type": "text"
      },
      "source": [
        "<a href=\"https://colab.research.google.com/github/francesco-source/Machine-Learning/blob/main/Classification_22_07_2020.ipynb\" target=\"_parent\"><img src=\"https://colab.research.google.com/assets/colab-badge.svg\" alt=\"Open In Colab\"/></a>"
      ]
    },
    {
      "cell_type": "markdown",
      "source": [
        "# Exam classification 22/07/2020"
      ],
      "metadata": {
        "id": "odpW0aXG11lq"
      }
    },
    {
      "cell_type": "code",
      "source": [
        "import pandas as pd\n",
        "import numpy as np\n",
        "import seaborn as sns\n",
        "import matplotlib.pyplot as plt\n",
        "\n",
        "from sklearn.model_selection import train_test_split\n",
        "from sklearn.model_selection import GridSearchCV\n",
        "\n",
        "from sklearn.tree import DecisionTreeClassifier\n",
        "from sklearn.neighbors import KNeighborsClassifier\n",
        "from sklearn.ensemble import RandomForestClassifier\n",
        "from sklearn.linear_model import Perceptron\n",
        "\n",
        "from sklearn.metrics import accuracy_score, classification_report, confusion_matrix\n",
        "from sklearn.model_selection import cross_val_score\n",
        "\n",
        "from sklearn.preprocessing import OrdinalEncoder,OneHotEncoder\n",
        "\n",
        "from sklearn.tree import plot_tree\n",
        "from sklearn.metrics import ConfusionMatrixDisplay\n",
        "random_state = 42\n",
        "np.random.seed(random_state)"
      ],
      "metadata": {
        "id": "n4H1TL6z186n"
      },
      "execution_count": 96,
      "outputs": []
    },
    {
      "cell_type": "markdown",
      "source": [
        "## 1. The data are split in two files, load the files and merge them  according to the first column, which is the index; both the files contain a \"class\" column, keep both the columns in the merged file calling them \"class_x\" and \"class_y\" (you can use the merge function of pandas dataframes)"
      ],
      "metadata": {
        "id": "FKcEsien2XMv"
      }
    },
    {
      "cell_type": "code",
      "source": [
        "df1 = pd.read_csv(\"exam_1.csv\",index_col=\"Unnamed: 0\")\n",
        "df1 = df1.rename(columns= {\"class\":\"class_x\"})\n",
        "df1.head()"
      ],
      "metadata": {
        "colab": {
          "base_uri": "https://localhost:8080/",
          "height": 206
        },
        "id": "wqD1jsZI2dyZ",
        "outputId": "4bf8e514-9ac0-4e05-88a6-bf76fac86b69"
      },
      "execution_count": 97,
      "outputs": [
        {
          "output_type": "execute_result",
          "data": {
            "text/plain": [
              "          A         C         E  class_x\n",
              "0 -0.386248  1.536628  1.232589        1\n",
              "1 -2.686649  4.640702  0.823433        1\n",
              "2  0.474124  1.576616 -1.256234        0\n",
              "3 -1.343790 -0.514008  1.520392        2\n",
              "4 -2.187600  0.289041  1.318321        2"
            ],
            "text/html": [
              "\n",
              "  <div id=\"df-a509deb2-7020-445b-9565-1f49d465f7a4\">\n",
              "    <div class=\"colab-df-container\">\n",
              "      <div>\n",
              "<style scoped>\n",
              "    .dataframe tbody tr th:only-of-type {\n",
              "        vertical-align: middle;\n",
              "    }\n",
              "\n",
              "    .dataframe tbody tr th {\n",
              "        vertical-align: top;\n",
              "    }\n",
              "\n",
              "    .dataframe thead th {\n",
              "        text-align: right;\n",
              "    }\n",
              "</style>\n",
              "<table border=\"1\" class=\"dataframe\">\n",
              "  <thead>\n",
              "    <tr style=\"text-align: right;\">\n",
              "      <th></th>\n",
              "      <th>A</th>\n",
              "      <th>C</th>\n",
              "      <th>E</th>\n",
              "      <th>class_x</th>\n",
              "    </tr>\n",
              "  </thead>\n",
              "  <tbody>\n",
              "    <tr>\n",
              "      <th>0</th>\n",
              "      <td>-0.386248</td>\n",
              "      <td>1.536628</td>\n",
              "      <td>1.232589</td>\n",
              "      <td>1</td>\n",
              "    </tr>\n",
              "    <tr>\n",
              "      <th>1</th>\n",
              "      <td>-2.686649</td>\n",
              "      <td>4.640702</td>\n",
              "      <td>0.823433</td>\n",
              "      <td>1</td>\n",
              "    </tr>\n",
              "    <tr>\n",
              "      <th>2</th>\n",
              "      <td>0.474124</td>\n",
              "      <td>1.576616</td>\n",
              "      <td>-1.256234</td>\n",
              "      <td>0</td>\n",
              "    </tr>\n",
              "    <tr>\n",
              "      <th>3</th>\n",
              "      <td>-1.343790</td>\n",
              "      <td>-0.514008</td>\n",
              "      <td>1.520392</td>\n",
              "      <td>2</td>\n",
              "    </tr>\n",
              "    <tr>\n",
              "      <th>4</th>\n",
              "      <td>-2.187600</td>\n",
              "      <td>0.289041</td>\n",
              "      <td>1.318321</td>\n",
              "      <td>2</td>\n",
              "    </tr>\n",
              "  </tbody>\n",
              "</table>\n",
              "</div>\n",
              "      <button class=\"colab-df-convert\" onclick=\"convertToInteractive('df-a509deb2-7020-445b-9565-1f49d465f7a4')\"\n",
              "              title=\"Convert this dataframe to an interactive table.\"\n",
              "              style=\"display:none;\">\n",
              "        \n",
              "  <svg xmlns=\"http://www.w3.org/2000/svg\" height=\"24px\"viewBox=\"0 0 24 24\"\n",
              "       width=\"24px\">\n",
              "    <path d=\"M0 0h24v24H0V0z\" fill=\"none\"/>\n",
              "    <path d=\"M18.56 5.44l.94 2.06.94-2.06 2.06-.94-2.06-.94-.94-2.06-.94 2.06-2.06.94zm-11 1L8.5 8.5l.94-2.06 2.06-.94-2.06-.94L8.5 2.5l-.94 2.06-2.06.94zm10 10l.94 2.06.94-2.06 2.06-.94-2.06-.94-.94-2.06-.94 2.06-2.06.94z\"/><path d=\"M17.41 7.96l-1.37-1.37c-.4-.4-.92-.59-1.43-.59-.52 0-1.04.2-1.43.59L10.3 9.45l-7.72 7.72c-.78.78-.78 2.05 0 2.83L4 21.41c.39.39.9.59 1.41.59.51 0 1.02-.2 1.41-.59l7.78-7.78 2.81-2.81c.8-.78.8-2.07 0-2.86zM5.41 20L4 18.59l7.72-7.72 1.47 1.35L5.41 20z\"/>\n",
              "  </svg>\n",
              "      </button>\n",
              "      \n",
              "  <style>\n",
              "    .colab-df-container {\n",
              "      display:flex;\n",
              "      flex-wrap:wrap;\n",
              "      gap: 12px;\n",
              "    }\n",
              "\n",
              "    .colab-df-convert {\n",
              "      background-color: #E8F0FE;\n",
              "      border: none;\n",
              "      border-radius: 50%;\n",
              "      cursor: pointer;\n",
              "      display: none;\n",
              "      fill: #1967D2;\n",
              "      height: 32px;\n",
              "      padding: 0 0 0 0;\n",
              "      width: 32px;\n",
              "    }\n",
              "\n",
              "    .colab-df-convert:hover {\n",
              "      background-color: #E2EBFA;\n",
              "      box-shadow: 0px 1px 2px rgba(60, 64, 67, 0.3), 0px 1px 3px 1px rgba(60, 64, 67, 0.15);\n",
              "      fill: #174EA6;\n",
              "    }\n",
              "\n",
              "    [theme=dark] .colab-df-convert {\n",
              "      background-color: #3B4455;\n",
              "      fill: #D2E3FC;\n",
              "    }\n",
              "\n",
              "    [theme=dark] .colab-df-convert:hover {\n",
              "      background-color: #434B5C;\n",
              "      box-shadow: 0px 1px 3px 1px rgba(0, 0, 0, 0.15);\n",
              "      filter: drop-shadow(0px 1px 2px rgba(0, 0, 0, 0.3));\n",
              "      fill: #FFFFFF;\n",
              "    }\n",
              "  </style>\n",
              "\n",
              "      <script>\n",
              "        const buttonEl =\n",
              "          document.querySelector('#df-a509deb2-7020-445b-9565-1f49d465f7a4 button.colab-df-convert');\n",
              "        buttonEl.style.display =\n",
              "          google.colab.kernel.accessAllowed ? 'block' : 'none';\n",
              "\n",
              "        async function convertToInteractive(key) {\n",
              "          const element = document.querySelector('#df-a509deb2-7020-445b-9565-1f49d465f7a4');\n",
              "          const dataTable =\n",
              "            await google.colab.kernel.invokeFunction('convertToInteractive',\n",
              "                                                     [key], {});\n",
              "          if (!dataTable) return;\n",
              "\n",
              "          const docLinkHtml = 'Like what you see? Visit the ' +\n",
              "            '<a target=\"_blank\" href=https://colab.research.google.com/notebooks/data_table.ipynb>data table notebook</a>'\n",
              "            + ' to learn more about interactive tables.';\n",
              "          element.innerHTML = '';\n",
              "          dataTable['output_type'] = 'display_data';\n",
              "          await google.colab.output.renderOutput(dataTable, element);\n",
              "          const docLink = document.createElement('div');\n",
              "          docLink.innerHTML = docLinkHtml;\n",
              "          element.appendChild(docLink);\n",
              "        }\n",
              "      </script>\n",
              "    </div>\n",
              "  </div>\n",
              "  "
            ]
          },
          "metadata": {},
          "execution_count": 97
        }
      ]
    },
    {
      "cell_type": "code",
      "source": [
        "df2 = pd.read_csv(\"exam_2.csv\",index_col = \"Unnamed: 0\")\n",
        "df2 = df2.rename(columns = {\"class\":\"class_y\"})\n",
        "df2.head()"
      ],
      "metadata": {
        "colab": {
          "base_uri": "https://localhost:8080/",
          "height": 206
        },
        "id": "NlsLTPy94AmJ",
        "outputId": "5bdcb946-3eca-47da-c443-e7f17602c4e6"
      },
      "execution_count": 98,
      "outputs": [
        {
          "output_type": "execute_result",
          "data": {
            "text/plain": [
              "          B         D         F  class_y\n",
              "0 -1.432057  1.039420  0.280469        1\n",
              "1 -4.036329  0.526320 -0.419013        1\n",
              "2  0.179770  0.157974 -0.162869        0\n",
              "3 -1.299109 -0.152250  0.045123        2\n",
              "4 -2.089699 -0.494995 -0.661858        2"
            ],
            "text/html": [
              "\n",
              "  <div id=\"df-dc32c2df-e3e3-4bf8-bf9e-0979bd229cb1\">\n",
              "    <div class=\"colab-df-container\">\n",
              "      <div>\n",
              "<style scoped>\n",
              "    .dataframe tbody tr th:only-of-type {\n",
              "        vertical-align: middle;\n",
              "    }\n",
              "\n",
              "    .dataframe tbody tr th {\n",
              "        vertical-align: top;\n",
              "    }\n",
              "\n",
              "    .dataframe thead th {\n",
              "        text-align: right;\n",
              "    }\n",
              "</style>\n",
              "<table border=\"1\" class=\"dataframe\">\n",
              "  <thead>\n",
              "    <tr style=\"text-align: right;\">\n",
              "      <th></th>\n",
              "      <th>B</th>\n",
              "      <th>D</th>\n",
              "      <th>F</th>\n",
              "      <th>class_y</th>\n",
              "    </tr>\n",
              "  </thead>\n",
              "  <tbody>\n",
              "    <tr>\n",
              "      <th>0</th>\n",
              "      <td>-1.432057</td>\n",
              "      <td>1.039420</td>\n",
              "      <td>0.280469</td>\n",
              "      <td>1</td>\n",
              "    </tr>\n",
              "    <tr>\n",
              "      <th>1</th>\n",
              "      <td>-4.036329</td>\n",
              "      <td>0.526320</td>\n",
              "      <td>-0.419013</td>\n",
              "      <td>1</td>\n",
              "    </tr>\n",
              "    <tr>\n",
              "      <th>2</th>\n",
              "      <td>0.179770</td>\n",
              "      <td>0.157974</td>\n",
              "      <td>-0.162869</td>\n",
              "      <td>0</td>\n",
              "    </tr>\n",
              "    <tr>\n",
              "      <th>3</th>\n",
              "      <td>-1.299109</td>\n",
              "      <td>-0.152250</td>\n",
              "      <td>0.045123</td>\n",
              "      <td>2</td>\n",
              "    </tr>\n",
              "    <tr>\n",
              "      <th>4</th>\n",
              "      <td>-2.089699</td>\n",
              "      <td>-0.494995</td>\n",
              "      <td>-0.661858</td>\n",
              "      <td>2</td>\n",
              "    </tr>\n",
              "  </tbody>\n",
              "</table>\n",
              "</div>\n",
              "      <button class=\"colab-df-convert\" onclick=\"convertToInteractive('df-dc32c2df-e3e3-4bf8-bf9e-0979bd229cb1')\"\n",
              "              title=\"Convert this dataframe to an interactive table.\"\n",
              "              style=\"display:none;\">\n",
              "        \n",
              "  <svg xmlns=\"http://www.w3.org/2000/svg\" height=\"24px\"viewBox=\"0 0 24 24\"\n",
              "       width=\"24px\">\n",
              "    <path d=\"M0 0h24v24H0V0z\" fill=\"none\"/>\n",
              "    <path d=\"M18.56 5.44l.94 2.06.94-2.06 2.06-.94-2.06-.94-.94-2.06-.94 2.06-2.06.94zm-11 1L8.5 8.5l.94-2.06 2.06-.94-2.06-.94L8.5 2.5l-.94 2.06-2.06.94zm10 10l.94 2.06.94-2.06 2.06-.94-2.06-.94-.94-2.06-.94 2.06-2.06.94z\"/><path d=\"M17.41 7.96l-1.37-1.37c-.4-.4-.92-.59-1.43-.59-.52 0-1.04.2-1.43.59L10.3 9.45l-7.72 7.72c-.78.78-.78 2.05 0 2.83L4 21.41c.39.39.9.59 1.41.59.51 0 1.02-.2 1.41-.59l7.78-7.78 2.81-2.81c.8-.78.8-2.07 0-2.86zM5.41 20L4 18.59l7.72-7.72 1.47 1.35L5.41 20z\"/>\n",
              "  </svg>\n",
              "      </button>\n",
              "      \n",
              "  <style>\n",
              "    .colab-df-container {\n",
              "      display:flex;\n",
              "      flex-wrap:wrap;\n",
              "      gap: 12px;\n",
              "    }\n",
              "\n",
              "    .colab-df-convert {\n",
              "      background-color: #E8F0FE;\n",
              "      border: none;\n",
              "      border-radius: 50%;\n",
              "      cursor: pointer;\n",
              "      display: none;\n",
              "      fill: #1967D2;\n",
              "      height: 32px;\n",
              "      padding: 0 0 0 0;\n",
              "      width: 32px;\n",
              "    }\n",
              "\n",
              "    .colab-df-convert:hover {\n",
              "      background-color: #E2EBFA;\n",
              "      box-shadow: 0px 1px 2px rgba(60, 64, 67, 0.3), 0px 1px 3px 1px rgba(60, 64, 67, 0.15);\n",
              "      fill: #174EA6;\n",
              "    }\n",
              "\n",
              "    [theme=dark] .colab-df-convert {\n",
              "      background-color: #3B4455;\n",
              "      fill: #D2E3FC;\n",
              "    }\n",
              "\n",
              "    [theme=dark] .colab-df-convert:hover {\n",
              "      background-color: #434B5C;\n",
              "      box-shadow: 0px 1px 3px 1px rgba(0, 0, 0, 0.15);\n",
              "      filter: drop-shadow(0px 1px 2px rgba(0, 0, 0, 0.3));\n",
              "      fill: #FFFFFF;\n",
              "    }\n",
              "  </style>\n",
              "\n",
              "      <script>\n",
              "        const buttonEl =\n",
              "          document.querySelector('#df-dc32c2df-e3e3-4bf8-bf9e-0979bd229cb1 button.colab-df-convert');\n",
              "        buttonEl.style.display =\n",
              "          google.colab.kernel.accessAllowed ? 'block' : 'none';\n",
              "\n",
              "        async function convertToInteractive(key) {\n",
              "          const element = document.querySelector('#df-dc32c2df-e3e3-4bf8-bf9e-0979bd229cb1');\n",
              "          const dataTable =\n",
              "            await google.colab.kernel.invokeFunction('convertToInteractive',\n",
              "                                                     [key], {});\n",
              "          if (!dataTable) return;\n",
              "\n",
              "          const docLinkHtml = 'Like what you see? Visit the ' +\n",
              "            '<a target=\"_blank\" href=https://colab.research.google.com/notebooks/data_table.ipynb>data table notebook</a>'\n",
              "            + ' to learn more about interactive tables.';\n",
              "          element.innerHTML = '';\n",
              "          dataTable['output_type'] = 'display_data';\n",
              "          await google.colab.output.renderOutput(dataTable, element);\n",
              "          const docLink = document.createElement('div');\n",
              "          docLink.innerHTML = docLinkHtml;\n",
              "          element.appendChild(docLink);\n",
              "        }\n",
              "      </script>\n",
              "    </div>\n",
              "  </div>\n",
              "  "
            ]
          },
          "metadata": {},
          "execution_count": 98
        }
      ]
    },
    {
      "cell_type": "code",
      "source": [
        "df = pd.merge(df1, df2, left_index=True, right_index=True)\n",
        "df.head()"
      ],
      "metadata": {
        "colab": {
          "base_uri": "https://localhost:8080/",
          "height": 206
        },
        "id": "CZ2-TewL5G0V",
        "outputId": "fd0d6bbb-dc95-458d-dcfe-a8958ed39ac5"
      },
      "execution_count": 99,
      "outputs": [
        {
          "output_type": "execute_result",
          "data": {
            "text/plain": [
              "          A         C         E  class_x         B         D         F  \\\n",
              "0 -0.386248  1.536628  1.232589        1 -1.432057  1.039420  0.280469   \n",
              "1 -2.686649  4.640702  0.823433        1 -4.036329  0.526320 -0.419013   \n",
              "2  0.474124  1.576616 -1.256234        0  0.179770  0.157974 -0.162869   \n",
              "3 -1.343790 -0.514008  1.520392        2 -1.299109 -0.152250  0.045123   \n",
              "4 -2.187600  0.289041  1.318321        2 -2.089699 -0.494995 -0.661858   \n",
              "\n",
              "   class_y  \n",
              "0        1  \n",
              "1        1  \n",
              "2        0  \n",
              "3        2  \n",
              "4        2  "
            ],
            "text/html": [
              "\n",
              "  <div id=\"df-4107d30c-589b-4b1b-8d89-d7fe86a06944\">\n",
              "    <div class=\"colab-df-container\">\n",
              "      <div>\n",
              "<style scoped>\n",
              "    .dataframe tbody tr th:only-of-type {\n",
              "        vertical-align: middle;\n",
              "    }\n",
              "\n",
              "    .dataframe tbody tr th {\n",
              "        vertical-align: top;\n",
              "    }\n",
              "\n",
              "    .dataframe thead th {\n",
              "        text-align: right;\n",
              "    }\n",
              "</style>\n",
              "<table border=\"1\" class=\"dataframe\">\n",
              "  <thead>\n",
              "    <tr style=\"text-align: right;\">\n",
              "      <th></th>\n",
              "      <th>A</th>\n",
              "      <th>C</th>\n",
              "      <th>E</th>\n",
              "      <th>class_x</th>\n",
              "      <th>B</th>\n",
              "      <th>D</th>\n",
              "      <th>F</th>\n",
              "      <th>class_y</th>\n",
              "    </tr>\n",
              "  </thead>\n",
              "  <tbody>\n",
              "    <tr>\n",
              "      <th>0</th>\n",
              "      <td>-0.386248</td>\n",
              "      <td>1.536628</td>\n",
              "      <td>1.232589</td>\n",
              "      <td>1</td>\n",
              "      <td>-1.432057</td>\n",
              "      <td>1.039420</td>\n",
              "      <td>0.280469</td>\n",
              "      <td>1</td>\n",
              "    </tr>\n",
              "    <tr>\n",
              "      <th>1</th>\n",
              "      <td>-2.686649</td>\n",
              "      <td>4.640702</td>\n",
              "      <td>0.823433</td>\n",
              "      <td>1</td>\n",
              "      <td>-4.036329</td>\n",
              "      <td>0.526320</td>\n",
              "      <td>-0.419013</td>\n",
              "      <td>1</td>\n",
              "    </tr>\n",
              "    <tr>\n",
              "      <th>2</th>\n",
              "      <td>0.474124</td>\n",
              "      <td>1.576616</td>\n",
              "      <td>-1.256234</td>\n",
              "      <td>0</td>\n",
              "      <td>0.179770</td>\n",
              "      <td>0.157974</td>\n",
              "      <td>-0.162869</td>\n",
              "      <td>0</td>\n",
              "    </tr>\n",
              "    <tr>\n",
              "      <th>3</th>\n",
              "      <td>-1.343790</td>\n",
              "      <td>-0.514008</td>\n",
              "      <td>1.520392</td>\n",
              "      <td>2</td>\n",
              "      <td>-1.299109</td>\n",
              "      <td>-0.152250</td>\n",
              "      <td>0.045123</td>\n",
              "      <td>2</td>\n",
              "    </tr>\n",
              "    <tr>\n",
              "      <th>4</th>\n",
              "      <td>-2.187600</td>\n",
              "      <td>0.289041</td>\n",
              "      <td>1.318321</td>\n",
              "      <td>2</td>\n",
              "      <td>-2.089699</td>\n",
              "      <td>-0.494995</td>\n",
              "      <td>-0.661858</td>\n",
              "      <td>2</td>\n",
              "    </tr>\n",
              "  </tbody>\n",
              "</table>\n",
              "</div>\n",
              "      <button class=\"colab-df-convert\" onclick=\"convertToInteractive('df-4107d30c-589b-4b1b-8d89-d7fe86a06944')\"\n",
              "              title=\"Convert this dataframe to an interactive table.\"\n",
              "              style=\"display:none;\">\n",
              "        \n",
              "  <svg xmlns=\"http://www.w3.org/2000/svg\" height=\"24px\"viewBox=\"0 0 24 24\"\n",
              "       width=\"24px\">\n",
              "    <path d=\"M0 0h24v24H0V0z\" fill=\"none\"/>\n",
              "    <path d=\"M18.56 5.44l.94 2.06.94-2.06 2.06-.94-2.06-.94-.94-2.06-.94 2.06-2.06.94zm-11 1L8.5 8.5l.94-2.06 2.06-.94-2.06-.94L8.5 2.5l-.94 2.06-2.06.94zm10 10l.94 2.06.94-2.06 2.06-.94-2.06-.94-.94-2.06-.94 2.06-2.06.94z\"/><path d=\"M17.41 7.96l-1.37-1.37c-.4-.4-.92-.59-1.43-.59-.52 0-1.04.2-1.43.59L10.3 9.45l-7.72 7.72c-.78.78-.78 2.05 0 2.83L4 21.41c.39.39.9.59 1.41.59.51 0 1.02-.2 1.41-.59l7.78-7.78 2.81-2.81c.8-.78.8-2.07 0-2.86zM5.41 20L4 18.59l7.72-7.72 1.47 1.35L5.41 20z\"/>\n",
              "  </svg>\n",
              "      </button>\n",
              "      \n",
              "  <style>\n",
              "    .colab-df-container {\n",
              "      display:flex;\n",
              "      flex-wrap:wrap;\n",
              "      gap: 12px;\n",
              "    }\n",
              "\n",
              "    .colab-df-convert {\n",
              "      background-color: #E8F0FE;\n",
              "      border: none;\n",
              "      border-radius: 50%;\n",
              "      cursor: pointer;\n",
              "      display: none;\n",
              "      fill: #1967D2;\n",
              "      height: 32px;\n",
              "      padding: 0 0 0 0;\n",
              "      width: 32px;\n",
              "    }\n",
              "\n",
              "    .colab-df-convert:hover {\n",
              "      background-color: #E2EBFA;\n",
              "      box-shadow: 0px 1px 2px rgba(60, 64, 67, 0.3), 0px 1px 3px 1px rgba(60, 64, 67, 0.15);\n",
              "      fill: #174EA6;\n",
              "    }\n",
              "\n",
              "    [theme=dark] .colab-df-convert {\n",
              "      background-color: #3B4455;\n",
              "      fill: #D2E3FC;\n",
              "    }\n",
              "\n",
              "    [theme=dark] .colab-df-convert:hover {\n",
              "      background-color: #434B5C;\n",
              "      box-shadow: 0px 1px 3px 1px rgba(0, 0, 0, 0.15);\n",
              "      filter: drop-shadow(0px 1px 2px rgba(0, 0, 0, 0.3));\n",
              "      fill: #FFFFFF;\n",
              "    }\n",
              "  </style>\n",
              "\n",
              "      <script>\n",
              "        const buttonEl =\n",
              "          document.querySelector('#df-4107d30c-589b-4b1b-8d89-d7fe86a06944 button.colab-df-convert');\n",
              "        buttonEl.style.display =\n",
              "          google.colab.kernel.accessAllowed ? 'block' : 'none';\n",
              "\n",
              "        async function convertToInteractive(key) {\n",
              "          const element = document.querySelector('#df-4107d30c-589b-4b1b-8d89-d7fe86a06944');\n",
              "          const dataTable =\n",
              "            await google.colab.kernel.invokeFunction('convertToInteractive',\n",
              "                                                     [key], {});\n",
              "          if (!dataTable) return;\n",
              "\n",
              "          const docLinkHtml = 'Like what you see? Visit the ' +\n",
              "            '<a target=\"_blank\" href=https://colab.research.google.com/notebooks/data_table.ipynb>data table notebook</a>'\n",
              "            + ' to learn more about interactive tables.';\n",
              "          element.innerHTML = '';\n",
              "          dataTable['output_type'] = 'display_data';\n",
              "          await google.colab.output.renderOutput(dataTable, element);\n",
              "          const docLink = document.createElement('div');\n",
              "          docLink.innerHTML = docLinkHtml;\n",
              "          element.appendChild(docLink);\n",
              "        }\n",
              "      </script>\n",
              "    </div>\n",
              "  </div>\n",
              "  "
            ]
          },
          "metadata": {},
          "execution_count": 99
        }
      ]
    },
    {
      "cell_type": "markdown",
      "source": [
        "## 2. Delete all the rows where class_x is different from class_y, then drop class_y and rename class_x as class"
      ],
      "metadata": {
        "id": "85O8le0y6dPz"
      }
    },
    {
      "cell_type": "code",
      "source": [
        "# Delete rows where class_x is different from class_y\n",
        "df = df[df[\"class_x\"] == df[\"class_y\"]]\n",
        "\n",
        "# Drop class_y column\n",
        "df.drop(\"class_y\", axis=1, inplace=True)\n",
        "\n",
        "# Rename class_x column as class\n",
        "df.rename(columns={\"class_x\": \"class\"}, inplace=True)"
      ],
      "metadata": {
        "id": "ZW-Ygnl16haj"
      },
      "execution_count": 100,
      "outputs": []
    },
    {
      "cell_type": "markdown",
      "source": [
        "## 3.  Reorder the columns in alphabetical order, but placing the class column as the last one; the cleaned dataframe must be named df; show its size and head"
      ],
      "metadata": {
        "id": "ra5x5_rH7TEc"
      }
    },
    {
      "cell_type": "code",
      "source": [
        "cols = df.columns.tolist()\n",
        "cols.remove(\"class\")\n",
        "cols.sort()\n",
        "cols.append(\"class\")\n",
        "df = df[cols]\n",
        "df.head()"
      ],
      "metadata": {
        "colab": {
          "base_uri": "https://localhost:8080/",
          "height": 206
        },
        "id": "Gs7rGttA8QRm",
        "outputId": "4a63b529-f3ef-41d1-8b6e-cf18ebadafab"
      },
      "execution_count": 101,
      "outputs": [
        {
          "output_type": "execute_result",
          "data": {
            "text/plain": [
              "          A         B         C         D         E         F  class\n",
              "0 -0.386248 -1.432057  1.536628  1.039420  1.232589  0.280469      1\n",
              "1 -2.686649 -4.036329  4.640702  0.526320  0.823433 -0.419013      1\n",
              "2  0.474124  0.179770  1.576616  0.157974 -1.256234 -0.162869      0\n",
              "3 -1.343790 -1.299109 -0.514008 -0.152250  1.520392  0.045123      2\n",
              "4 -2.187600 -2.089699  0.289041 -0.494995  1.318321 -0.661858      2"
            ],
            "text/html": [
              "\n",
              "  <div id=\"df-6604f2cd-eb9e-47db-a251-9044ae1a4cf5\">\n",
              "    <div class=\"colab-df-container\">\n",
              "      <div>\n",
              "<style scoped>\n",
              "    .dataframe tbody tr th:only-of-type {\n",
              "        vertical-align: middle;\n",
              "    }\n",
              "\n",
              "    .dataframe tbody tr th {\n",
              "        vertical-align: top;\n",
              "    }\n",
              "\n",
              "    .dataframe thead th {\n",
              "        text-align: right;\n",
              "    }\n",
              "</style>\n",
              "<table border=\"1\" class=\"dataframe\">\n",
              "  <thead>\n",
              "    <tr style=\"text-align: right;\">\n",
              "      <th></th>\n",
              "      <th>A</th>\n",
              "      <th>B</th>\n",
              "      <th>C</th>\n",
              "      <th>D</th>\n",
              "      <th>E</th>\n",
              "      <th>F</th>\n",
              "      <th>class</th>\n",
              "    </tr>\n",
              "  </thead>\n",
              "  <tbody>\n",
              "    <tr>\n",
              "      <th>0</th>\n",
              "      <td>-0.386248</td>\n",
              "      <td>-1.432057</td>\n",
              "      <td>1.536628</td>\n",
              "      <td>1.039420</td>\n",
              "      <td>1.232589</td>\n",
              "      <td>0.280469</td>\n",
              "      <td>1</td>\n",
              "    </tr>\n",
              "    <tr>\n",
              "      <th>1</th>\n",
              "      <td>-2.686649</td>\n",
              "      <td>-4.036329</td>\n",
              "      <td>4.640702</td>\n",
              "      <td>0.526320</td>\n",
              "      <td>0.823433</td>\n",
              "      <td>-0.419013</td>\n",
              "      <td>1</td>\n",
              "    </tr>\n",
              "    <tr>\n",
              "      <th>2</th>\n",
              "      <td>0.474124</td>\n",
              "      <td>0.179770</td>\n",
              "      <td>1.576616</td>\n",
              "      <td>0.157974</td>\n",
              "      <td>-1.256234</td>\n",
              "      <td>-0.162869</td>\n",
              "      <td>0</td>\n",
              "    </tr>\n",
              "    <tr>\n",
              "      <th>3</th>\n",
              "      <td>-1.343790</td>\n",
              "      <td>-1.299109</td>\n",
              "      <td>-0.514008</td>\n",
              "      <td>-0.152250</td>\n",
              "      <td>1.520392</td>\n",
              "      <td>0.045123</td>\n",
              "      <td>2</td>\n",
              "    </tr>\n",
              "    <tr>\n",
              "      <th>4</th>\n",
              "      <td>-2.187600</td>\n",
              "      <td>-2.089699</td>\n",
              "      <td>0.289041</td>\n",
              "      <td>-0.494995</td>\n",
              "      <td>1.318321</td>\n",
              "      <td>-0.661858</td>\n",
              "      <td>2</td>\n",
              "    </tr>\n",
              "  </tbody>\n",
              "</table>\n",
              "</div>\n",
              "      <button class=\"colab-df-convert\" onclick=\"convertToInteractive('df-6604f2cd-eb9e-47db-a251-9044ae1a4cf5')\"\n",
              "              title=\"Convert this dataframe to an interactive table.\"\n",
              "              style=\"display:none;\">\n",
              "        \n",
              "  <svg xmlns=\"http://www.w3.org/2000/svg\" height=\"24px\"viewBox=\"0 0 24 24\"\n",
              "       width=\"24px\">\n",
              "    <path d=\"M0 0h24v24H0V0z\" fill=\"none\"/>\n",
              "    <path d=\"M18.56 5.44l.94 2.06.94-2.06 2.06-.94-2.06-.94-.94-2.06-.94 2.06-2.06.94zm-11 1L8.5 8.5l.94-2.06 2.06-.94-2.06-.94L8.5 2.5l-.94 2.06-2.06.94zm10 10l.94 2.06.94-2.06 2.06-.94-2.06-.94-.94-2.06-.94 2.06-2.06.94z\"/><path d=\"M17.41 7.96l-1.37-1.37c-.4-.4-.92-.59-1.43-.59-.52 0-1.04.2-1.43.59L10.3 9.45l-7.72 7.72c-.78.78-.78 2.05 0 2.83L4 21.41c.39.39.9.59 1.41.59.51 0 1.02-.2 1.41-.59l7.78-7.78 2.81-2.81c.8-.78.8-2.07 0-2.86zM5.41 20L4 18.59l7.72-7.72 1.47 1.35L5.41 20z\"/>\n",
              "  </svg>\n",
              "      </button>\n",
              "      \n",
              "  <style>\n",
              "    .colab-df-container {\n",
              "      display:flex;\n",
              "      flex-wrap:wrap;\n",
              "      gap: 12px;\n",
              "    }\n",
              "\n",
              "    .colab-df-convert {\n",
              "      background-color: #E8F0FE;\n",
              "      border: none;\n",
              "      border-radius: 50%;\n",
              "      cursor: pointer;\n",
              "      display: none;\n",
              "      fill: #1967D2;\n",
              "      height: 32px;\n",
              "      padding: 0 0 0 0;\n",
              "      width: 32px;\n",
              "    }\n",
              "\n",
              "    .colab-df-convert:hover {\n",
              "      background-color: #E2EBFA;\n",
              "      box-shadow: 0px 1px 2px rgba(60, 64, 67, 0.3), 0px 1px 3px 1px rgba(60, 64, 67, 0.15);\n",
              "      fill: #174EA6;\n",
              "    }\n",
              "\n",
              "    [theme=dark] .colab-df-convert {\n",
              "      background-color: #3B4455;\n",
              "      fill: #D2E3FC;\n",
              "    }\n",
              "\n",
              "    [theme=dark] .colab-df-convert:hover {\n",
              "      background-color: #434B5C;\n",
              "      box-shadow: 0px 1px 3px 1px rgba(0, 0, 0, 0.15);\n",
              "      filter: drop-shadow(0px 1px 2px rgba(0, 0, 0, 0.3));\n",
              "      fill: #FFFFFF;\n",
              "    }\n",
              "  </style>\n",
              "\n",
              "      <script>\n",
              "        const buttonEl =\n",
              "          document.querySelector('#df-6604f2cd-eb9e-47db-a251-9044ae1a4cf5 button.colab-df-convert');\n",
              "        buttonEl.style.display =\n",
              "          google.colab.kernel.accessAllowed ? 'block' : 'none';\n",
              "\n",
              "        async function convertToInteractive(key) {\n",
              "          const element = document.querySelector('#df-6604f2cd-eb9e-47db-a251-9044ae1a4cf5');\n",
              "          const dataTable =\n",
              "            await google.colab.kernel.invokeFunction('convertToInteractive',\n",
              "                                                     [key], {});\n",
              "          if (!dataTable) return;\n",
              "\n",
              "          const docLinkHtml = 'Like what you see? Visit the ' +\n",
              "            '<a target=\"_blank\" href=https://colab.research.google.com/notebooks/data_table.ipynb>data table notebook</a>'\n",
              "            + ' to learn more about interactive tables.';\n",
              "          element.innerHTML = '';\n",
              "          dataTable['output_type'] = 'display_data';\n",
              "          await google.colab.output.renderOutput(dataTable, element);\n",
              "          const docLink = document.createElement('div');\n",
              "          docLink.innerHTML = docLinkHtml;\n",
              "          element.appendChild(docLink);\n",
              "        }\n",
              "      </script>\n",
              "    </div>\n",
              "  </div>\n",
              "  "
            ]
          },
          "metadata": {},
          "execution_count": 101
        }
      ]
    },
    {
      "cell_type": "markdown",
      "source": [
        "## 4. Find the best classification scheme using three classification methods"
      ],
      "metadata": {
        "id": "lDBuwwhl89Wy"
      }
    },
    {
      "cell_type": "code",
      "source": [
        "X = df.drop(\"class\",axis = 1)\n",
        "y = df[\"class\"]\n",
        "\n",
        "X_train, X_test, y_train, y_test =train_test_split(X,y,random_state = random_state)"
      ],
      "metadata": {
        "id": "ceiKZ7Ry-jfl"
      },
      "execution_count": 102,
      "outputs": []
    },
    {
      "cell_type": "markdown",
      "source": [
        "### DecisionTreeClassifier"
      ],
      "metadata": {
        "id": "Q2gXr8yi-UrI"
      }
    },
    {
      "cell_type": "code",
      "source": [
        "criterions = [\"gini\",\"entropy\"]\n",
        "param_grid = {'max_depth': list(range(1,20)),\"criterion\":criterions}\n",
        "\n",
        "dt = DecisionTreeClassifier(random_state=random_state)\n",
        "\n",
        "dt_grid_searccv = GridSearchCV(dt,param_grid=param_grid,scoring=\"accuracy\",cv =5)\n",
        "\n",
        "dt_grid_searccv.fit(X_train,y_train)\n",
        "\n",
        "dt_best = dt_grid_searccv.best_estimator_\n",
        "\n",
        "y_dt = dt_best.predict(X_test)"
      ],
      "metadata": {
        "id": "o7yGN5t49BDA"
      },
      "execution_count": 103,
      "outputs": []
    },
    {
      "cell_type": "code",
      "source": [
        "print(\"The best depth is: \",dt_best.get_depth(),\".\")\n",
        "print(\"The best criterion is:\",dt_best.get_params()[\"criterion\"])"
      ],
      "metadata": {
        "colab": {
          "base_uri": "https://localhost:8080/"
        },
        "id": "Xybk8pEw__uI",
        "outputId": "03317c3d-7fe9-4352-83c8-973f4a45a3d2"
      },
      "execution_count": 104,
      "outputs": [
        {
          "output_type": "stream",
          "name": "stdout",
          "text": [
            "The best depth is:  7 .\n",
            "The best criterion is: gini\n"
          ]
        }
      ]
    },
    {
      "cell_type": "code",
      "source": [
        "accuracy_dt = np.round(accuracy_score(y_test,y_dt),4)*100\n",
        "print(\"The accuracy for the DecisionTree is: \",accuracy_dt,\"%\")"
      ],
      "metadata": {
        "colab": {
          "base_uri": "https://localhost:8080/"
        },
        "id": "Kd6P0CS0_Da7",
        "outputId": "cb10864b-9345-4ab2-fbdb-1db454ec5c1f"
      },
      "execution_count": 105,
      "outputs": [
        {
          "output_type": "stream",
          "name": "stdout",
          "text": [
            "The accuracy for the DecisionTree is:  82.46 %\n"
          ]
        }
      ]
    },
    {
      "cell_type": "code",
      "source": [
        "cfm = confusion_matrix(y_test,y_dt,normalize=\"true\")\n",
        "disp = ConfusionMatrixDisplay.from_estimator(dt_best,X_test,y_test,normalize=\"true\");"
      ],
      "metadata": {
        "colab": {
          "base_uri": "https://localhost:8080/",
          "height": 282
        },
        "id": "gRa7c6EhCQbP",
        "outputId": "c54b4722-1197-4a06-84b7-a859043862ea"
      },
      "execution_count": 106,
      "outputs": [
        {
          "output_type": "display_data",
          "data": {
            "text/plain": [
              "<Figure size 432x288 with 2 Axes>"
            ],
            "image/png": "[encoded data removed]"
          },
          "metadata": {
            "needs_background": "light"
          }
        }
      ]
    },
    {
      "cell_type": "markdown",
      "source": [
        "### RandomForest "
      ],
      "metadata": {
        "id": "pW4_k5xU_WBh"
      }
    },
    {
      "cell_type": "code",
      "source": [
        "rf = RandomForestClassifier(random_state=random_state)\n",
        "\n",
        "parameters = {'max_depth':list(range(1,10)),'n_estimators':list(range(10,100,10))}\n",
        "\n",
        "rf_grid_searccv = GridSearchCV(rf,param_grid=parameters,scoring=\"accuracy\")\n",
        "\n",
        "rf_grid_searccv.fit(X_train,y_train)\n",
        "\n",
        "rf_best = rf_grid_searccv.best_estimator_\n",
        "\n",
        "y_rf = rf_best.predict(X_test)\n"
      ],
      "metadata": {
        "id": "-qoSmLqi_ZeK"
      },
      "execution_count": 107,
      "outputs": []
    },
    {
      "cell_type": "code",
      "source": [
        "print(\"The best number of depth: \",rf_best.get_params()[\"max_depth\"])\n",
        "print(\"The best number of n_estimators: \",rf_best.get_params()[\"n_estimators\"])"
      ],
      "metadata": {
        "colab": {
          "base_uri": "https://localhost:8080/"
        },
        "id": "F1Oh92D4AFWc",
        "outputId": "15b9ace4-c4e1-4fc2-d1a8-5a7b162daf84"
      },
      "execution_count": 108,
      "outputs": [
        {
          "output_type": "stream",
          "name": "stdout",
          "text": [
            "The best number of depth:  9\n",
            "The best number of n_estimators:  60\n"
          ]
        }
      ]
    },
    {
      "cell_type": "code",
      "source": [
        "accuracy_rf = np.round(accuracy_score(y_test,y_rf),4)*100\n",
        "print(\"The accuracy for the DecisionTree is: \",accuracy_rf,\"%\")"
      ],
      "metadata": {
        "colab": {
          "base_uri": "https://localhost:8080/"
        },
        "id": "Wf96x81j_puH",
        "outputId": "01fad0ea-7b54-40c6-81c4-24716a4edf86"
      },
      "execution_count": 109,
      "outputs": [
        {
          "output_type": "stream",
          "name": "stdout",
          "text": [
            "The accuracy for the DecisionTree is:  86.69 %\n"
          ]
        }
      ]
    },
    {
      "cell_type": "code",
      "source": [
        "c_f_m = confusion_matrix(y_test,y_rf,normalize=\"true\")\n",
        "disp = ConfusionMatrixDisplay.from_estimator(rf_best,X_test,y_test,normalize=\"true\")\n",
        "print(ConfusionMatrixDisplay(c_f_m))"
      ],
      "metadata": {
        "colab": {
          "base_uri": "https://localhost:8080/",
          "height": 296
        },
        "id": "sAt7oHRiCnDU",
        "outputId": "64abe048-8e1d-49ed-dab3-df190d00499f"
      },
      "execution_count": 110,
      "outputs": [
        {
          "output_type": "stream",
          "name": "stdout",
          "text": [
            "<sklearn.metrics._plot.confusion_matrix.ConfusionMatrixDisplay object at 0x7f5a4e031250>\n"
          ]
        },
        {
          "output_type": "display_data",
          "data": {
            "text/plain": [
              "<Figure size 432x288 with 2 Axes>"
            ],
            "image/png": "[encoded data removed]"
          },
          "metadata": {
            "needs_background": "light"
          }
        }
      ]
    },
    {
      "cell_type": "markdown",
      "source": [
        "### KNearestNeighbour"
      ],
      "metadata": {
        "id": "-gzV05Ut_vsv"
      }
    },
    {
      "cell_type": "code",
      "source": [
        "knn = KNeighborsClassifier()\n",
        "\n",
        "tuned_param_knn = [{'n_neighbors': [ 2, 3, 4, 5, 6, 7, 8, 9, 10]}]\n",
        "\n",
        "model = GridSearchCV(estimator = knn, param_grid=tuned_param_knn, scoring = \"accuracy\")\n",
        "\n",
        "model.fit(X_train,y_train)\n",
        "\n",
        "knn = model.best_estimator_\n",
        "\n",
        "y_knn = knn.predict(X_test)"
      ],
      "metadata": {
        "id": "U1O1WMdR_yqJ"
      },
      "execution_count": 111,
      "outputs": []
    },
    {
      "cell_type": "code",
      "source": [
        "print(\"The best n_neighbors is:\",knn.get_params()[\"n_neighbors\"])"
      ],
      "metadata": {
        "colab": {
          "base_uri": "https://localhost:8080/"
        },
        "id": "CjMqgAMIAK-S",
        "outputId": "bb268ca4-07c0-47ef-d507-f66e1fffd53c"
      },
      "execution_count": 112,
      "outputs": [
        {
          "output_type": "stream",
          "name": "stdout",
          "text": [
            "The best n_neighbors is: 9\n"
          ]
        }
      ]
    },
    {
      "cell_type": "code",
      "source": [
        "accuracy_knn = np.round(accuracy_score(y_test,y_knn),4)*100\n",
        "print(\"The accuracy for the DecisionTree is: \",accuracy_knn,\"%\")"
      ],
      "metadata": {
        "colab": {
          "base_uri": "https://localhost:8080/"
        },
        "id": "6oNJJooWAO4r",
        "outputId": "ec4ed885-706c-4231-dc28-88d6965cdb5b"
      },
      "execution_count": 113,
      "outputs": [
        {
          "output_type": "stream",
          "name": "stdout",
          "text": [
            "The accuracy for the DecisionTree is:  86.29 %\n"
          ]
        }
      ]
    },
    {
      "cell_type": "code",
      "source": [
        "cfm = confusion_matrix(y_test,y_knn,normalize=\"true\")\n",
        "disp = ConfusionMatrixDisplay.from_estimator(knn,X_test,y_test,normalize=\"true\");"
      ],
      "metadata": {
        "colab": {
          "base_uri": "https://localhost:8080/",
          "height": 279
        },
        "id": "3km5-RMeCc5J",
        "outputId": "a1ef2903-1a66-4cac-b80e-2275fd92c75c"
      },
      "execution_count": 114,
      "outputs": [
        {
          "output_type": "display_data",
          "data": {
            "text/plain": [
              "<Figure size 432x288 with 2 Axes>"
            ],
            "image/png": "[encoded data removed]"
          },
          "metadata": {
            "needs_background": "light"
          }
        }
      ]
    },
    {
      "cell_type": "markdown",
      "source": [
        "### Linear Perceptron"
      ],
      "metadata": {
        "id": "xmQzCtpvCqGL"
      }
    },
    {
      "cell_type": "code",
      "source": [
        "lp = Perceptron(early_stopping = True, random_state = random_state)\n",
        "\n",
        "# Fit it to the training data\n",
        "lp.fit(X_train, y_train)\n",
        "\n",
        "# Try to predict test data\n",
        "y_lp = lp.predict(X_test)\n"
      ],
      "metadata": {
        "id": "9HiYcp22Cz1n"
      },
      "execution_count": 115,
      "outputs": []
    },
    {
      "cell_type": "code",
      "source": [
        "accuracy_lp = np.round(accuracy_score(y_test,y_lp),4)*100\n",
        "print(\"The accuracy for the DecisionTree is: \",accuracy_lp,\"%\")"
      ],
      "metadata": {
        "colab": {
          "base_uri": "https://localhost:8080/"
        },
        "id": "A-51lxPZD-gV",
        "outputId": "1da25a91-7d45-42fc-9d0c-98090f5fc06c"
      },
      "execution_count": 116,
      "outputs": [
        {
          "output_type": "stream",
          "name": "stdout",
          "text": [
            "The accuracy for the DecisionTree is:  70.16 %\n"
          ]
        }
      ]
    },
    {
      "cell_type": "code",
      "source": [
        "cfm = confusion_matrix(y_test,y_lp,normalize=\"true\")\n",
        "disp = ConfusionMatrixDisplay.from_estimator(lp,X_test,y_test,normalize=\"true\");"
      ],
      "metadata": {
        "colab": {
          "base_uri": "https://localhost:8080/",
          "height": 279
        },
        "id": "zp9cAbbqErwU",
        "outputId": "39bf0c4d-6caa-47a5-df3f-f02502af71f8"
      },
      "execution_count": 117,
      "outputs": [
        {
          "output_type": "display_data",
          "data": {
            "text/plain": [
              "<Figure size 432x288 with 2 Axes>"
            ],
            "image/png": "[encoded data removed]"
          },
          "metadata": {
            "needs_background": "light"
          }
        }
      ]
    },
    {
      "cell_type": "markdown",
      "source": [
        "For this problem the best classification model is the RandomForest because it has the highest accuracy."
      ],
      "metadata": {
        "id": "P3_KfH8bAc3o"
      }
    },
    {
      "cell_type": "markdown",
      "source": [
        "## 5.  Produce a plot of the accuracies given by the methods attempted "
      ],
      "metadata": {
        "id": "cSxGa1saAziY"
      }
    },
    {
      "cell_type": "code",
      "source": [
        "classifier_list = ['Decision Tree', 'Random Forest', 'K-Nearest Neighbors',\"Perceptron\"]\n",
        "acc_list = [accuracy_dt,accuracy_rf,accuracy_knn,accuracy_lp]\n",
        "plt.title('Accuracy of each classifier')\n",
        "plt.bar(classifier_list, acc_list);"
      ],
      "metadata": {
        "colab": {
          "base_uri": "https://localhost:8080/",
          "height": 281
        },
        "id": "WLoicUL6A5NY",
        "outputId": "97a8208c-18d1-47d1-9698-b4907c17a024"
      },
      "execution_count": 118,
      "outputs": [
        {
          "output_type": "display_data",
          "data": {
            "text/plain": [
              "<Figure size 432x288 with 1 Axes>"
            ],
            "image/png": "[encoded data removed]"
          },
          "metadata": {
            "needs_background": "light"
          }
        }
      ]
    }
  ]
}