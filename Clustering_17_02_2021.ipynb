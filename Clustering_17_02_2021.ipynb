{
  "nbformat": 4,
  "nbformat_minor": 0,
  "metadata": {
    "colab": {
      "provenance": [],
      "authorship_tag": "ABX9TyNoG30WeDtdyUzPGUmrQaL+",
      "include_colab_link": true
    },
    "kernelspec": {
      "name": "python3",
      "display_name": "Python 3"
    },
    "language_info": {
      "name": "python"
    }
  },
  "cells": [
    {
      "cell_type": "markdown",
      "metadata": {
        "id": "view-in-github",
        "colab_type": "text"
      },
      "source": [
        "<a href=\"https://colab.research.google.com/github/francesco-source/Machine-Learning/blob/main/Clustering_17_02_2021.ipynb\" target=\"_parent\"><img src=\"https://colab.research.google.com/assets/colab-badge.svg\" alt=\"Open In Colab\"/></a>"
      ]
    },
    {
      "cell_type": "markdown",
      "source": [
        "# Clustering exam of the 17/02/2021"
      ],
      "metadata": {
        "id": "gUJBilxhW035"
      }
    },
    {
      "cell_type": "code",
      "source": [
        "import numpy as np\n",
        "import pandas as pd\n",
        "import seaborn as sns\n",
        "import matplotlib.pyplot as plt\n",
        "from sklearn.cluster import KMeans\n",
        "from sklearn.cluster import AgglomerativeClustering\n",
        "from sklearn.cluster import DBSCAN\n",
        "from sklearn.model_selection import ParameterGrid,GridSearchCV\n",
        "from sklearn.feature_selection import SelectKBest,mutual_info_classif\n",
        "from sklearn.metrics import silhouette_score,accuracy_score,confusion_matrix\n",
        "from sklearn.preprocessing import MinMaxScaler ,OneHotEncoder, OrdinalEncoder\n",
        "from sklearn.metrics.cluster import pair_confusion_matrix\n",
        "random_state = 42"
      ],
      "metadata": {
        "id": "ZQYTwZkRW40o"
      },
      "execution_count": 64,
      "outputs": []
    },
    {
      "cell_type": "markdown",
      "source": [
        "##1. Load th data, show the shape and for each column show the frequencies of each distinct value."
      ],
      "metadata": {
        "id": "HiYOJG4_Xf9K"
      }
    },
    {
      "cell_type": "code",
      "source": [
        "data = pd.read_csv(\"exam_2021_02_17_data.csv\",sep = \"\\t\",header = None)\n",
        "data.head()"
      ],
      "metadata": {
        "colab": {
          "base_uri": "https://localhost:8080/",
          "height": 206
        },
        "id": "UhuvxCSoa9DI",
        "outputId": "d598e33f-7a48-40fe-8755-5bedf15abd84"
      },
      "execution_count": 65,
      "outputs": [
        {
          "output_type": "execute_result",
          "data": {
            "text/plain": [
              "    0   1   2\n",
              "0  F0  F1  F2\n",
              "1   d   a   a\n",
              "2   c   e   c\n",
              "3   j   a   c\n",
              "4   f   e   j"
            ],
            "text/html": [
              "\n",
              "  <div id=\"df-cc376f3c-6887-4bba-9cd1-0bc945881584\">\n",
              "    <div class=\"colab-df-container\">\n",
              "      <div>\n",
              "<style scoped>\n",
              "    .dataframe tbody tr th:only-of-type {\n",
              "        vertical-align: middle;\n",
              "    }\n",
              "\n",
              "    .dataframe tbody tr th {\n",
              "        vertical-align: top;\n",
              "    }\n",
              "\n",
              "    .dataframe thead th {\n",
              "        text-align: right;\n",
              "    }\n",
              "</style>\n",
              "<table border=\"1\" class=\"dataframe\">\n",
              "  <thead>\n",
              "    <tr style=\"text-align: right;\">\n",
              "      <th></th>\n",
              "      <th>0</th>\n",
              "      <th>1</th>\n",
              "      <th>2</th>\n",
              "    </tr>\n",
              "  </thead>\n",
              "  <tbody>\n",
              "    <tr>\n",
              "      <th>0</th>\n",
              "      <td>F0</td>\n",
              "      <td>F1</td>\n",
              "      <td>F2</td>\n",
              "    </tr>\n",
              "    <tr>\n",
              "      <th>1</th>\n",
              "      <td>d</td>\n",
              "      <td>a</td>\n",
              "      <td>a</td>\n",
              "    </tr>\n",
              "    <tr>\n",
              "      <th>2</th>\n",
              "      <td>c</td>\n",
              "      <td>e</td>\n",
              "      <td>c</td>\n",
              "    </tr>\n",
              "    <tr>\n",
              "      <th>3</th>\n",
              "      <td>j</td>\n",
              "      <td>a</td>\n",
              "      <td>c</td>\n",
              "    </tr>\n",
              "    <tr>\n",
              "      <th>4</th>\n",
              "      <td>f</td>\n",
              "      <td>e</td>\n",
              "      <td>j</td>\n",
              "    </tr>\n",
              "  </tbody>\n",
              "</table>\n",
              "</div>\n",
              "      <button class=\"colab-df-convert\" onclick=\"convertToInteractive('df-cc376f3c-6887-4bba-9cd1-0bc945881584')\"\n",
              "              title=\"Convert this dataframe to an interactive table.\"\n",
              "              style=\"display:none;\">\n",
              "        \n",
              "  <svg xmlns=\"http://www.w3.org/2000/svg\" height=\"24px\"viewBox=\"0 0 24 24\"\n",
              "       width=\"24px\">\n",
              "    <path d=\"M0 0h24v24H0V0z\" fill=\"none\"/>\n",
              "    <path d=\"M18.56 5.44l.94 2.06.94-2.06 2.06-.94-2.06-.94-.94-2.06-.94 2.06-2.06.94zm-11 1L8.5 8.5l.94-2.06 2.06-.94-2.06-.94L8.5 2.5l-.94 2.06-2.06.94zm10 10l.94 2.06.94-2.06 2.06-.94-2.06-.94-.94-2.06-.94 2.06-2.06.94z\"/><path d=\"M17.41 7.96l-1.37-1.37c-.4-.4-.92-.59-1.43-.59-.52 0-1.04.2-1.43.59L10.3 9.45l-7.72 7.72c-.78.78-.78 2.05 0 2.83L4 21.41c.39.39.9.59 1.41.59.51 0 1.02-.2 1.41-.59l7.78-7.78 2.81-2.81c.8-.78.8-2.07 0-2.86zM5.41 20L4 18.59l7.72-7.72 1.47 1.35L5.41 20z\"/>\n",
              "  </svg>\n",
              "      </button>\n",
              "      \n",
              "  <style>\n",
              "    .colab-df-container {\n",
              "      display:flex;\n",
              "      flex-wrap:wrap;\n",
              "      gap: 12px;\n",
              "    }\n",
              "\n",
              "    .colab-df-convert {\n",
              "      background-color: #E8F0FE;\n",
              "      border: none;\n",
              "      border-radius: 50%;\n",
              "      cursor: pointer;\n",
              "      display: none;\n",
              "      fill: #1967D2;\n",
              "      height: 32px;\n",
              "      padding: 0 0 0 0;\n",
              "      width: 32px;\n",
              "    }\n",
              "\n",
              "    .colab-df-convert:hover {\n",
              "      background-color: #E2EBFA;\n",
              "      box-shadow: 0px 1px 2px rgba(60, 64, 67, 0.3), 0px 1px 3px 1px rgba(60, 64, 67, 0.15);\n",
              "      fill: #174EA6;\n",
              "    }\n",
              "\n",
              "    [theme=dark] .colab-df-convert {\n",
              "      background-color: #3B4455;\n",
              "      fill: #D2E3FC;\n",
              "    }\n",
              "\n",
              "    [theme=dark] .colab-df-convert:hover {\n",
              "      background-color: #434B5C;\n",
              "      box-shadow: 0px 1px 3px 1px rgba(0, 0, 0, 0.15);\n",
              "      filter: drop-shadow(0px 1px 2px rgba(0, 0, 0, 0.3));\n",
              "      fill: #FFFFFF;\n",
              "    }\n",
              "  </style>\n",
              "\n",
              "      <script>\n",
              "        const buttonEl =\n",
              "          document.querySelector('#df-cc376f3c-6887-4bba-9cd1-0bc945881584 button.colab-df-convert');\n",
              "        buttonEl.style.display =\n",
              "          google.colab.kernel.accessAllowed ? 'block' : 'none';\n",
              "\n",
              "        async function convertToInteractive(key) {\n",
              "          const element = document.querySelector('#df-cc376f3c-6887-4bba-9cd1-0bc945881584');\n",
              "          const dataTable =\n",
              "            await google.colab.kernel.invokeFunction('convertToInteractive',\n",
              "                                                     [key], {});\n",
              "          if (!dataTable) return;\n",
              "\n",
              "          const docLinkHtml = 'Like what you see? Visit the ' +\n",
              "            '<a target=\"_blank\" href=https://colab.research.google.com/notebooks/data_table.ipynb>data table notebook</a>'\n",
              "            + ' to learn more about interactive tables.';\n",
              "          element.innerHTML = '';\n",
              "          dataTable['output_type'] = 'display_data';\n",
              "          await google.colab.output.renderOutput(dataTable, element);\n",
              "          const docLink = document.createElement('div');\n",
              "          docLink.innerHTML = docLinkHtml;\n",
              "          element.appendChild(docLink);\n",
              "        }\n",
              "      </script>\n",
              "    </div>\n",
              "  </div>\n",
              "  "
            ]
          },
          "metadata": {},
          "execution_count": 65
        }
      ]
    },
    {
      "cell_type": "code",
      "source": [
        "print(\"The shape of the dataset is equal to: \",data.shape)\n",
        "print(\"The size of the dataset is equal to: \",data.size)\n",
        "for column in data.columns:\n",
        "  values, counts = np.unique (data[column],return_counts = True)\n",
        "  print(\"In the column \",column,\" the unique values are: \",values)\n",
        "  print(\"In the column \",column,\" the counts are: \",counts)\n"
      ],
      "metadata": {
        "colab": {
          "base_uri": "https://localhost:8080/"
        },
        "id": "HmQ1yY56bYgb",
        "outputId": "a2e412e8-0d56-49e7-95b8-b5d654300dcd"
      },
      "execution_count": 66,
      "outputs": [
        {
          "output_type": "stream",
          "name": "stdout",
          "text": [
            "The shape of the dataset is equal to:  (1001, 3)\n",
            "The size of the dataset is equal to:  3003\n",
            "In the column  0  the unique values are:  ['F0' 'a' 'b' 'c' 'd' 'e' 'f' 'g' 'h' 'i' 'j']\n",
            "In the column  0  the counts are:  [  1 100 100 100 100 100 100 100 100 100 100]\n",
            "In the column  1  the unique values are:  ['F1' 'a' 'b' 'c' 'd' 'e' 'f' 'g' 'h' 'i' 'j']\n",
            "In the column  1  the counts are:  [  1 100  99 100 100 101 100 100 100 100 100]\n",
            "In the column  2  the unique values are:  ['F2' 'a' 'b' 'c' 'd' 'e' 'f' 'g' 'h' 'i' 'j']\n",
            "In the column  2  the counts are:  [  1 100  99 100 100 101 100 100 100 100 100]\n"
          ]
        }
      ]
    },
    {
      "cell_type": "markdown",
      "source": [
        "##2. Do an appropriate preprocessing. The values are considered Nominal. "
      ],
      "metadata": {
        "id": "-FCd5e3_cOK6"
      }
    },
    {
      "cell_type": "code",
      "source": [
        "ohe = OneHotEncoder(dtype = int,sparse = False)\n",
        "df = ohe.fit_transform(data)\n",
        "\n",
        "df = pd.DataFrame(df)\n",
        "X = df"
      ],
      "metadata": {
        "id": "FwhCJvi0cWvw"
      },
      "execution_count": 67,
      "outputs": []
    },
    {
      "cell_type": "markdown",
      "source": [
        "##3. Choose a clustering scheme and fit it.\n"
      ],
      "metadata": {
        "id": "0ReD12MheK6P"
      }
    },
    {
      "cell_type": "markdown",
      "source": [
        "I choose k-means"
      ],
      "metadata": {
        "id": "oUObTPq2e5HN"
      }
    },
    {
      "cell_type": "code",
      "source": [
        "n_clusters = range(2,11)\n",
        "\n",
        "silhouette_scores = []\n",
        "\n",
        "inertia = []\n",
        "\n",
        "size_deviations = []\n",
        "\n",
        "for cluster in  n_clusters:\n",
        "  km = KMeans(n_clusters = cluster, random_state = random_state)\n",
        "\n",
        "  y = km.fit_predict(X)\n",
        "\n",
        "  silhouette_scores.append(silhouette_score(X,y))\n",
        "\n",
        "  inertia.append(km.inertia_)\n",
        "\n",
        "  size_deviations.append(np.sqrt(np.unique(y,return_counts=True)[1].var())/cluster)\n",
        "  "
      ],
      "metadata": {
        "id": "eTfSxy70ekq-"
      },
      "execution_count": 68,
      "outputs": []
    },
    {
      "cell_type": "code",
      "source": [
        "def two_plots(x, y1, y2, xlabel, y1label, y2label):\n",
        "    fig, ax1 = plt.subplots()\n",
        "\n",
        "    color = 'tab:red'\n",
        "    ax1.set_xlabel(xlabel)\n",
        "    ax1.set_ylabel(y1label, color=color)\n",
        "    ax1.plot(x, y1, color=color)\n",
        "    ax1.tick_params(axis='y', labelcolor=color)\n",
        "    ax2 = ax1.twinx()  # instantiate a second axes that shares the same x-axis\n",
        "\n",
        "    color = 'tab:blue'\n",
        "    ax2.set_ylabel(y2label, color=color)  # we already handled the x-label with ax1\n",
        "    ax2.plot(x, y2, color=color)\n",
        "    ax2.tick_params(axis='y', labelcolor=color)\n",
        "    ax2.set_ylim(0,1) # the axis for silhouette is [0,1]\n",
        "\n",
        "    fig.tight_layout()  # otherwise the right y-label is slightly clipped\n",
        "    plt.show()\n",
        "\n",
        "\n",
        "two_plots(x=n_clusters, y1=inertia, y2=silhouette_scores\n",
        "          , xlabel='Number of clusters', y1label='Inertias', y2label='Silhouette scores'\n",
        "         )"
      ],
      "metadata": {
        "colab": {
          "base_uri": "https://localhost:8080/",
          "height": 297
        },
        "id": "h4zKCvZxfLGY",
        "outputId": "d234bc8f-bb4c-4d7a-9c90-12960cc33595"
      },
      "execution_count": 69,
      "outputs": [
        {
          "output_type": "display_data",
          "data": {
            "text/plain": [
              "<Figure size 432x288 with 2 Axes>"
            ],
            "image/png": "[encoded data removed]"
          },
          "metadata": {
            "needs_background": "light"
          }
        }
      ]
    },
    {
      "cell_type": "code",
      "source": [
        "def two_plots(x, y1, y2, xlabel, y1label, y2label):\n",
        "    fig, ax1 = plt.subplots()\n",
        "\n",
        "    color = 'tab:red'\n",
        "    ax1.set_xlabel(xlabel)\n",
        "    ax1.set_ylabel(y1label, color=color)\n",
        "    ax1.plot(x, y1, color=color)\n",
        "    ax1.tick_params(axis='y', labelcolor=color)\n",
        "    ax2 = ax1.twinx()  # instantiate a second axes that shares the same x-axis\n",
        "\n",
        "    color = 'tab:blue'\n",
        "    ax2.set_ylabel(y2label, color=color)  # we already handled the x-label with ax1\n",
        "    ax2.plot(x, y2, color=color)\n",
        "    ax2.tick_params(axis='y', labelcolor=color)\n",
        "    fig.tight_layout()  # otherwise the right y-label is slightly clipped\n",
        "    plt.show()\n",
        "\n",
        "two_plots(x=n_clusters, y1=inertia, y2=size_deviations\n",
        "          , xlabel='Number of clusters', y1label='Inertia', y2label='Size deviation'\n",
        "         )"
      ],
      "metadata": {
        "colab": {
          "base_uri": "https://localhost:8080/",
          "height": 297
        },
        "id": "sn5o9ZctfMxp",
        "outputId": "16538abc-5c0b-485f-f6f5-91e1f0467b2c"
      },
      "execution_count": 70,
      "outputs": [
        {
          "output_type": "display_data",
          "data": {
            "text/plain": [
              "<Figure size 432x288 with 2 Axes>"
            ],
            "image/png": "[encoded data removed]"
          },
          "metadata": {
            "needs_background": "light"
          }
        }
      ]
    },
    {
      "cell_type": "markdown",
      "source": [
        "The best number of clusters is equal to 3."
      ],
      "metadata": {
        "id": "S9x-q28sfhbw"
      }
    },
    {
      "cell_type": "code",
      "source": [
        "# best cluster possible\n",
        "k = 3\n",
        "\n",
        "km_b = KMeans(n_clusters = k , random_state = random_state)\n",
        "\n",
        "y_km = km_b.fit_predict(X)"
      ],
      "metadata": {
        "id": "t-dfSyGnfl5r"
      },
      "execution_count": 71,
      "outputs": []
    },
    {
      "cell_type": "markdown",
      "source": [
        "##4. Choose another clustering scheme and try to reproduce the same number of clusters that you have coosen in the previuos step."
      ],
      "metadata": {
        "id": "QaOxa2RTfsGv"
      }
    },
    {
      "cell_type": "markdown",
      "source": [
        "Now I choose DBSCAN"
      ],
      "metadata": {
        "id": "9x7Us_8bf6Q5"
      }
    },
    {
      "cell_type": "code",
      "source": [
        "min_points=2*X.shape[1]\n",
        "k_distances = []\n",
        "for i in range(0, X.shape[0]):\n",
        "    k_point_distances = []\n",
        "    for j in range(0, X.shape[0]):\n",
        "        if i!=j:\n",
        "            dist = np.sqrt(sum((X.values[i,:]-X.values[j,:])**2))\n",
        "            k_point_distances.append(dist)\n",
        "    k_point_distances.sort()\n",
        "    k_distances.append(k_point_distances[min_points-1])\n",
        "    \n",
        "k_distances.sort(reverse=True)\n",
        "plt.plot(range(0,len(k_distances)), k_distances)\n",
        "plt.ylabel(\"eps\")\n",
        "plt.show()"
      ],
      "metadata": {
        "colab": {
          "base_uri": "https://localhost:8080/",
          "height": 265
        },
        "id": "G9mnZxTzhJGy",
        "outputId": "08f580ad-707a-4f4b-a9b0-7d2a251230a9"
      },
      "execution_count": 72,
      "outputs": [
        {
          "output_type": "display_data",
          "data": {
            "text/plain": [
              "<Figure size 432x288 with 1 Axes>"
            ],
            "image/png": "[encoded data removed]"
          },
          "metadata": {
            "needs_background": "light"
          }
        }
      ]
    },
    {
      "cell_type": "code",
      "source": [
        "print(min_points)"
      ],
      "metadata": {
        "colab": {
          "base_uri": "https://localhost:8080/"
        },
        "id": "k1VURPc-ilA5",
        "outputId": "8b500eef-578b-40ed-9887-79a6dda23c21"
      },
      "execution_count": 73,
      "outputs": [
        {
          "output_type": "stream",
          "name": "stdout",
          "text": [
            "66\n"
          ]
        }
      ]
    },
    {
      "cell_type": "code",
      "source": [
        "parameter_grid = ParameterGrid({\"eps\":np.arange(1,30,1),\"min_samples\":range(50,300,5)})\n",
        "param_grid = list(parameter_grid)\n",
        "\n",
        "dbscan_out = pd.DataFrame(columns =  ['eps','min_samples','n_clusters','silhouette', 'unclust%',\"deviation\"])\n",
        "\n",
        "for i in param_grid:\n",
        "\n",
        "    db = DBSCAN(eps=i.get(\"eps\"),min_samples=i.get(\"min_samples\"))\n",
        "\n",
        "    y_db = db.fit_predict(X)\n",
        "\n",
        "    cluster_labels_all = np.unique(y_db)\n",
        "    cluster_labels = cluster_labels_all[cluster_labels_all != -1]\n",
        "    n_clusters = len(cluster_labels)\n",
        "\n",
        "    if n_clusters > 1:\n",
        "        X_cl = X.values[y_db != -1,:]# elimino tutte le righe facenti parte del rumore\n",
        "        y_db_cl = y_db[y_db != -1] # elimino dalle lables tutti i valori che fanno parte del rumore\n",
        "\n",
        "\n",
        "        silhouette = silhouette_score(X_cl,y_db_cl)\n",
        "\n",
        "        uncl_p = (1 - (len(y_db_cl)/len(y_db)))*100\n",
        "\n",
        "        deviation = np.sqrt(np.unique(y,return_counts=True)[1].var())/n_clusters\n",
        "\n",
        "        dbscan_out.loc[len(dbscan_out)] = [db.eps, db.min_samples, n_clusters, silhouette, uncl_p, deviation]"
      ],
      "metadata": {
        "id": "xb-jOBDef1O0"
      },
      "execution_count": 74,
      "outputs": []
    },
    {
      "cell_type": "code",
      "source": [
        "dbscan_out.sort_values(by=[\"unclust%\",\"deviation\"], ascending=[True,True])"
      ],
      "metadata": {
        "colab": {
          "base_uri": "https://localhost:8080/",
          "height": 81
        },
        "id": "rRd-yINggqCS",
        "outputId": "33001815-e921-4ec3-cad2-70493733c105"
      },
      "execution_count": 75,
      "outputs": [
        {
          "output_type": "execute_result",
          "data": {
            "text/plain": [
              "   eps  min_samples  n_clusters  silhouette   unclust%  deviation\n",
              "0  2.0        280.0         2.0    0.060863  38.361638   0.269258"
            ],
            "text/html": [
              "\n",
              "  <div id=\"df-7a2aa56d-bcd8-4248-97c0-61efb0bc973f\">\n",
              "    <div class=\"colab-df-container\">\n",
              "      <div>\n",
              "<style scoped>\n",
              "    .dataframe tbody tr th:only-of-type {\n",
              "        vertical-align: middle;\n",
              "    }\n",
              "\n",
              "    .dataframe tbody tr th {\n",
              "        vertical-align: top;\n",
              "    }\n",
              "\n",
              "    .dataframe thead th {\n",
              "        text-align: right;\n",
              "    }\n",
              "</style>\n",
              "<table border=\"1\" class=\"dataframe\">\n",
              "  <thead>\n",
              "    <tr style=\"text-align: right;\">\n",
              "      <th></th>\n",
              "      <th>eps</th>\n",
              "      <th>min_samples</th>\n",
              "      <th>n_clusters</th>\n",
              "      <th>silhouette</th>\n",
              "      <th>unclust%</th>\n",
              "      <th>deviation</th>\n",
              "    </tr>\n",
              "  </thead>\n",
              "  <tbody>\n",
              "    <tr>\n",
              "      <th>0</th>\n",
              "      <td>2.0</td>\n",
              "      <td>280.0</td>\n",
              "      <td>2.0</td>\n",
              "      <td>0.060863</td>\n",
              "      <td>38.361638</td>\n",
              "      <td>0.269258</td>\n",
              "    </tr>\n",
              "  </tbody>\n",
              "</table>\n",
              "</div>\n",
              "      <button class=\"colab-df-convert\" onclick=\"convertToInteractive('df-7a2aa56d-bcd8-4248-97c0-61efb0bc973f')\"\n",
              "              title=\"Convert this dataframe to an interactive table.\"\n",
              "              style=\"display:none;\">\n",
              "        \n",
              "  <svg xmlns=\"http://www.w3.org/2000/svg\" height=\"24px\"viewBox=\"0 0 24 24\"\n",
              "       width=\"24px\">\n",
              "    <path d=\"M0 0h24v24H0V0z\" fill=\"none\"/>\n",
              "    <path d=\"M18.56 5.44l.94 2.06.94-2.06 2.06-.94-2.06-.94-.94-2.06-.94 2.06-2.06.94zm-11 1L8.5 8.5l.94-2.06 2.06-.94-2.06-.94L8.5 2.5l-.94 2.06-2.06.94zm10 10l.94 2.06.94-2.06 2.06-.94-2.06-.94-.94-2.06-.94 2.06-2.06.94z\"/><path d=\"M17.41 7.96l-1.37-1.37c-.4-.4-.92-.59-1.43-.59-.52 0-1.04.2-1.43.59L10.3 9.45l-7.72 7.72c-.78.78-.78 2.05 0 2.83L4 21.41c.39.39.9.59 1.41.59.51 0 1.02-.2 1.41-.59l7.78-7.78 2.81-2.81c.8-.78.8-2.07 0-2.86zM5.41 20L4 18.59l7.72-7.72 1.47 1.35L5.41 20z\"/>\n",
              "  </svg>\n",
              "      </button>\n",
              "      \n",
              "  <style>\n",
              "    .colab-df-container {\n",
              "      display:flex;\n",
              "      flex-wrap:wrap;\n",
              "      gap: 12px;\n",
              "    }\n",
              "\n",
              "    .colab-df-convert {\n",
              "      background-color: #E8F0FE;\n",
              "      border: none;\n",
              "      border-radius: 50%;\n",
              "      cursor: pointer;\n",
              "      display: none;\n",
              "      fill: #1967D2;\n",
              "      height: 32px;\n",
              "      padding: 0 0 0 0;\n",
              "      width: 32px;\n",
              "    }\n",
              "\n",
              "    .colab-df-convert:hover {\n",
              "      background-color: #E2EBFA;\n",
              "      box-shadow: 0px 1px 2px rgba(60, 64, 67, 0.3), 0px 1px 3px 1px rgba(60, 64, 67, 0.15);\n",
              "      fill: #174EA6;\n",
              "    }\n",
              "\n",
              "    [theme=dark] .colab-df-convert {\n",
              "      background-color: #3B4455;\n",
              "      fill: #D2E3FC;\n",
              "    }\n",
              "\n",
              "    [theme=dark] .colab-df-convert:hover {\n",
              "      background-color: #434B5C;\n",
              "      box-shadow: 0px 1px 3px 1px rgba(0, 0, 0, 0.15);\n",
              "      filter: drop-shadow(0px 1px 2px rgba(0, 0, 0, 0.3));\n",
              "      fill: #FFFFFF;\n",
              "    }\n",
              "  </style>\n",
              "\n",
              "      <script>\n",
              "        const buttonEl =\n",
              "          document.querySelector('#df-7a2aa56d-bcd8-4248-97c0-61efb0bc973f button.colab-df-convert');\n",
              "        buttonEl.style.display =\n",
              "          google.colab.kernel.accessAllowed ? 'block' : 'none';\n",
              "\n",
              "        async function convertToInteractive(key) {\n",
              "          const element = document.querySelector('#df-7a2aa56d-bcd8-4248-97c0-61efb0bc973f');\n",
              "          const dataTable =\n",
              "            await google.colab.kernel.invokeFunction('convertToInteractive',\n",
              "                                                     [key], {});\n",
              "          if (!dataTable) return;\n",
              "\n",
              "          const docLinkHtml = 'Like what you see? Visit the ' +\n",
              "            '<a target=\"_blank\" href=https://colab.research.google.com/notebooks/data_table.ipynb>data table notebook</a>'\n",
              "            + ' to learn more about interactive tables.';\n",
              "          element.innerHTML = '';\n",
              "          dataTable['output_type'] = 'display_data';\n",
              "          await google.colab.output.renderOutput(dataTable, element);\n",
              "          const docLink = document.createElement('div');\n",
              "          docLink.innerHTML = docLinkHtml;\n",
              "          element.appendChild(docLink);\n",
              "        }\n",
              "      </script>\n",
              "    </div>\n",
              "  </div>\n",
              "  "
            ]
          },
          "metadata": {},
          "execution_count": 75
        }
      ]
    },
    {
      "cell_type": "code",
      "source": [
        "db = DBSCAN(eps=2.0,min_samples=280)\n",
        "y_db = db.fit_predict(X)"
      ],
      "metadata": {
        "id": "Zt7HbpQokFVg"
      },
      "execution_count": 76,
      "outputs": []
    },
    {
      "cell_type": "markdown",
      "source": [
        "##6. Now I try agglomerative clustering"
      ],
      "metadata": {
        "id": "bF6ewmSdivxN"
      }
    },
    {
      "cell_type": "code",
      "source": [
        "result_ac = []\n",
        "\n",
        "param_grid ={\"linkage\":['ward', 'complete', 'average', 'single'],\"n_clusters\":list(range(2,11))}\n",
        "\n",
        "param_grid = ParameterGrid(param_grid)\n",
        "\n",
        "for par in param_grid:\n",
        "\n",
        "    agc = AgglomerativeClustering(n_clusters = k, linkage = par.get(\"linkage\"))\n",
        "\n",
        "    y_agc = agc.fit_predict(X)\n",
        "\n",
        "\n",
        "    result_ac.append([par.get('linkage'),par.get(\"n_clusters\"),silhouette_score(X,y_agc),deviation])\n",
        "\n",
        "    deviation = np.sqrt(np.unique(y,return_counts=True)[1].var())/n_clusters\n",
        "\n",
        "\n",
        "df_result_ac = pd.DataFrame(data = result_ac, columns=['linkage',\"n_clusters\",'silhouette_score',\"deviation\"])\n",
        "\n",
        "df_result_ac.sort_values(by='deviation', ascending=True).head(5)"
      ],
      "metadata": {
        "colab": {
          "base_uri": "https://localhost:8080/",
          "height": 206
        },
        "id": "FmcLx8yXi6En",
        "outputId": "85a3095b-9d08-4d31-8de6-948648f886b1"
      },
      "execution_count": 77,
      "outputs": [
        {
          "output_type": "execute_result",
          "data": {
            "text/plain": [
              "    linkage  n_clusters  silhouette_score  deviation\n",
              "0      ward           2          0.096664   0.269258\n",
              "20  average           4          0.082188   0.538516\n",
              "21  average           5          0.082188   0.538516\n",
              "22  average           6          0.082188   0.538516\n",
              "23  average           7          0.082188   0.538516"
            ],
            "text/html": [
              "\n",
              "  <div id=\"df-c4812db3-5e2d-4d2d-9905-9e028bd999a9\">\n",
              "    <div class=\"colab-df-container\">\n",
              "      <div>\n",
              "<style scoped>\n",
              "    .dataframe tbody tr th:only-of-type {\n",
              "        vertical-align: middle;\n",
              "    }\n",
              "\n",
              "    .dataframe tbody tr th {\n",
              "        vertical-align: top;\n",
              "    }\n",
              "\n",
              "    .dataframe thead th {\n",
              "        text-align: right;\n",
              "    }\n",
              "</style>\n",
              "<table border=\"1\" class=\"dataframe\">\n",
              "  <thead>\n",
              "    <tr style=\"text-align: right;\">\n",
              "      <th></th>\n",
              "      <th>linkage</th>\n",
              "      <th>n_clusters</th>\n",
              "      <th>silhouette_score</th>\n",
              "      <th>deviation</th>\n",
              "    </tr>\n",
              "  </thead>\n",
              "  <tbody>\n",
              "    <tr>\n",
              "      <th>0</th>\n",
              "      <td>ward</td>\n",
              "      <td>2</td>\n",
              "      <td>0.096664</td>\n",
              "      <td>0.269258</td>\n",
              "    </tr>\n",
              "    <tr>\n",
              "      <th>20</th>\n",
              "      <td>average</td>\n",
              "      <td>4</td>\n",
              "      <td>0.082188</td>\n",
              "      <td>0.538516</td>\n",
              "    </tr>\n",
              "    <tr>\n",
              "      <th>21</th>\n",
              "      <td>average</td>\n",
              "      <td>5</td>\n",
              "      <td>0.082188</td>\n",
              "      <td>0.538516</td>\n",
              "    </tr>\n",
              "    <tr>\n",
              "      <th>22</th>\n",
              "      <td>average</td>\n",
              "      <td>6</td>\n",
              "      <td>0.082188</td>\n",
              "      <td>0.538516</td>\n",
              "    </tr>\n",
              "    <tr>\n",
              "      <th>23</th>\n",
              "      <td>average</td>\n",
              "      <td>7</td>\n",
              "      <td>0.082188</td>\n",
              "      <td>0.538516</td>\n",
              "    </tr>\n",
              "  </tbody>\n",
              "</table>\n",
              "</div>\n",
              "      <button class=\"colab-df-convert\" onclick=\"convertToInteractive('df-c4812db3-5e2d-4d2d-9905-9e028bd999a9')\"\n",
              "              title=\"Convert this dataframe to an interactive table.\"\n",
              "              style=\"display:none;\">\n",
              "        \n",
              "  <svg xmlns=\"http://www.w3.org/2000/svg\" height=\"24px\"viewBox=\"0 0 24 24\"\n",
              "       width=\"24px\">\n",
              "    <path d=\"M0 0h24v24H0V0z\" fill=\"none\"/>\n",
              "    <path d=\"M18.56 5.44l.94 2.06.94-2.06 2.06-.94-2.06-.94-.94-2.06-.94 2.06-2.06.94zm-11 1L8.5 8.5l.94-2.06 2.06-.94-2.06-.94L8.5 2.5l-.94 2.06-2.06.94zm10 10l.94 2.06.94-2.06 2.06-.94-2.06-.94-.94-2.06-.94 2.06-2.06.94z\"/><path d=\"M17.41 7.96l-1.37-1.37c-.4-.4-.92-.59-1.43-.59-.52 0-1.04.2-1.43.59L10.3 9.45l-7.72 7.72c-.78.78-.78 2.05 0 2.83L4 21.41c.39.39.9.59 1.41.59.51 0 1.02-.2 1.41-.59l7.78-7.78 2.81-2.81c.8-.78.8-2.07 0-2.86zM5.41 20L4 18.59l7.72-7.72 1.47 1.35L5.41 20z\"/>\n",
              "  </svg>\n",
              "      </button>\n",
              "      \n",
              "  <style>\n",
              "    .colab-df-container {\n",
              "      display:flex;\n",
              "      flex-wrap:wrap;\n",
              "      gap: 12px;\n",
              "    }\n",
              "\n",
              "    .colab-df-convert {\n",
              "      background-color: #E8F0FE;\n",
              "      border: none;\n",
              "      border-radius: 50%;\n",
              "      cursor: pointer;\n",
              "      display: none;\n",
              "      fill: #1967D2;\n",
              "      height: 32px;\n",
              "      padding: 0 0 0 0;\n",
              "      width: 32px;\n",
              "    }\n",
              "\n",
              "    .colab-df-convert:hover {\n",
              "      background-color: #E2EBFA;\n",
              "      box-shadow: 0px 1px 2px rgba(60, 64, 67, 0.3), 0px 1px 3px 1px rgba(60, 64, 67, 0.15);\n",
              "      fill: #174EA6;\n",
              "    }\n",
              "\n",
              "    [theme=dark] .colab-df-convert {\n",
              "      background-color: #3B4455;\n",
              "      fill: #D2E3FC;\n",
              "    }\n",
              "\n",
              "    [theme=dark] .colab-df-convert:hover {\n",
              "      background-color: #434B5C;\n",
              "      box-shadow: 0px 1px 3px 1px rgba(0, 0, 0, 0.15);\n",
              "      filter: drop-shadow(0px 1px 2px rgba(0, 0, 0, 0.3));\n",
              "      fill: #FFFFFF;\n",
              "    }\n",
              "  </style>\n",
              "\n",
              "      <script>\n",
              "        const buttonEl =\n",
              "          document.querySelector('#df-c4812db3-5e2d-4d2d-9905-9e028bd999a9 button.colab-df-convert');\n",
              "        buttonEl.style.display =\n",
              "          google.colab.kernel.accessAllowed ? 'block' : 'none';\n",
              "\n",
              "        async function convertToInteractive(key) {\n",
              "          const element = document.querySelector('#df-c4812db3-5e2d-4d2d-9905-9e028bd999a9');\n",
              "          const dataTable =\n",
              "            await google.colab.kernel.invokeFunction('convertToInteractive',\n",
              "                                                     [key], {});\n",
              "          if (!dataTable) return;\n",
              "\n",
              "          const docLinkHtml = 'Like what you see? Visit the ' +\n",
              "            '<a target=\"_blank\" href=https://colab.research.google.com/notebooks/data_table.ipynb>data table notebook</a>'\n",
              "            + ' to learn more about interactive tables.';\n",
              "          element.innerHTML = '';\n",
              "          dataTable['output_type'] = 'display_data';\n",
              "          await google.colab.output.renderOutput(dataTable, element);\n",
              "          const docLink = document.createElement('div');\n",
              "          docLink.innerHTML = docLinkHtml;\n",
              "          element.appendChild(docLink);\n",
              "        }\n",
              "      </script>\n",
              "    </div>\n",
              "  </div>\n",
              "  "
            ]
          },
          "metadata": {},
          "execution_count": 77
        }
      ]
    },
    {
      "cell_type": "code",
      "source": [
        "agc = AgglomerativeClustering(n_clusters = 2, linkage = \"ward\")\n",
        "\n",
        "y_agc = agc.fit_predict(X)"
      ],
      "metadata": {
        "id": "RmvXnFT6kOwF"
      },
      "execution_count": 78,
      "outputs": []
    },
    {
      "cell_type": "markdown",
      "source": [
        "The number of clusters found with Agglomerative clustering and DBSCAN is equal to 2.\n"
      ],
      "metadata": {
        "id": "6aegZiTmjaPu"
      }
    },
    {
      "cell_type": "markdown",
      "source": [
        "##5. Compare the results for the three methods using adjusted rand score and the pair confusion matrix"
      ],
      "metadata": {
        "id": "yOkf-Az8jhqU"
      }
    },
    {
      "cell_type": "code",
      "source": [
        "p_c_m = pair_confusion_matrix(y_km,y_agc)\n",
        "print(\"The pair confusion matrix is \")\n",
        "p_c_m = p_c_m/ p_c_m.sum()\n",
        "p_c_m"
      ],
      "metadata": {
        "colab": {
          "base_uri": "https://localhost:8080/"
        },
        "id": "9Nuw5czajrmE",
        "outputId": "58579115-2868-4b88-b8fa-659670bb2b94"
      },
      "execution_count": 79,
      "outputs": [
        {
          "output_type": "stream",
          "name": "stdout",
          "text": [
            "The pair confusion matrix is \n"
          ]
        },
        {
          "output_type": "execute_result",
          "data": {
            "text/plain": [
              "array([[0.36788811, 0.29844555],\n",
              "       [0.03010989, 0.30355644]])"
            ]
          },
          "metadata": {},
          "execution_count": 79
        }
      ]
    },
    {
      "cell_type": "code",
      "source": [
        "p_c_m = pair_confusion_matrix(y_db,y_agc)\n",
        "print(\"The pair confusion matrix is \")\n",
        "p_c_m = p_c_m/ p_c_m.sum()\n",
        "p_c_m"
      ],
      "metadata": {
        "colab": {
          "base_uri": "https://localhost:8080/"
        },
        "id": "3comap1mlJq4",
        "outputId": "c95ed881-6570-4c60-b8b0-8145a973e78f"
      },
      "execution_count": 83,
      "outputs": [
        {
          "output_type": "stream",
          "name": "stdout",
          "text": [
            "The pair confusion matrix is \n"
          ]
        },
        {
          "output_type": "execute_result",
          "data": {
            "text/plain": [
              "array([[0.25324276, 0.38364036],\n",
              "       [0.14475524, 0.21836164]])"
            ]
          },
          "metadata": {},
          "execution_count": 83
        }
      ]
    },
    {
      "cell_type": "code",
      "source": [
        "p_c_m = pair_confusion_matrix(y_db,y_km)\n",
        "print(\"The pair confusion matrix is \")\n",
        "p_c_m = p_c_m/ p_c_m.sum()\n",
        "p_c_m"
      ],
      "metadata": {
        "colab": {
          "base_uri": "https://localhost:8080/"
        },
        "id": "GEKn8J_QljQ1",
        "outputId": "f40056a8-0a84-4c99-dbbd-998b4a582ac5"
      },
      "execution_count": 85,
      "outputs": [
        {
          "output_type": "stream",
          "name": "stdout",
          "text": [
            "The pair confusion matrix is \n"
          ]
        },
        {
          "output_type": "execute_result",
          "data": {
            "text/plain": [
              "array([[0.4397982 , 0.19708492],\n",
              "       [0.22653546, 0.13658142]])"
            ]
          },
          "metadata": {},
          "execution_count": 85
        }
      ]
    },
    {
      "cell_type": "markdown",
      "source": [
        "The numbers in this matrixs show that the two cluster schemas are quite different "
      ],
      "metadata": {
        "id": "0nD0WGRxla6p"
      }
    },
    {
      "cell_type": "code",
      "source": [
        "from sklearn.metrics import adjusted_rand_score\n",
        "adjusted_rand_score(y_km, y_agc)"
      ],
      "metadata": {
        "colab": {
          "base_uri": "https://localhost:8080/"
        },
        "id": "hjGkFQtukzGe",
        "outputId": "2155e05c-6cc7-4abd-ae85-36b5cef38515"
      },
      "execution_count": 82,
      "outputs": [
        {
          "output_type": "execute_result",
          "data": {
            "text/plain": [
              "0.3846501169646123"
            ]
          },
          "metadata": {},
          "execution_count": 82
        }
      ]
    },
    {
      "cell_type": "code",
      "source": [
        "adjusted_rand_score(y_db, y_agc)"
      ],
      "metadata": {
        "colab": {
          "base_uri": "https://localhost:8080/"
        },
        "id": "L2CfcmlBlNlv",
        "outputId": "d90def76-b1a9-419f-bb1d-4176457d9777"
      },
      "execution_count": 84,
      "outputs": [
        {
          "output_type": "execute_result",
          "data": {
            "text/plain": [
              "-0.0008919862310714066"
            ]
          },
          "metadata": {},
          "execution_count": 84
        }
      ]
    },
    {
      "cell_type": "code",
      "source": [
        "adjusted_rand_score(y_db, y_km)"
      ],
      "metadata": {
        "colab": {
          "base_uri": "https://localhost:8080/"
        },
        "id": "C_FwdlJalp3o",
        "outputId": "a9e64bfa-f373-4048-b944-c68a0990d6cb"
      },
      "execution_count": 86,
      "outputs": [
        {
          "output_type": "execute_result",
          "data": {
            "text/plain": [
              "0.0678670163991335"
            ]
          },
          "metadata": {},
          "execution_count": 86
        }
      ]
    },
    {
      "cell_type": "markdown",
      "source": [
        "The adjusted rand score is very low, meaning that the two clusterings are quite different. This doesn't come as a surprise, as we ended up having two different values of the number of clusters."
      ],
      "metadata": {
        "id": "DljoF7SJlWrd"
      }
    }
  ]
}