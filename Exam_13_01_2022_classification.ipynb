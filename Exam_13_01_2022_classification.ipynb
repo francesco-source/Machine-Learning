{
  "nbformat": 4,
  "nbformat_minor": 0,
  "metadata": {
    "colab": {
      "provenance": [],
      "authorship_tag": "ABX9TyOXYZg4ZtjZZMyyylM3Z4Rv",
      "include_colab_link": true
    },
    "kernelspec": {
      "name": "python3",
      "display_name": "Python 3"
    },
    "language_info": {
      "name": "python"
    }
  },
  "cells": [
    {
      "cell_type": "markdown",
      "metadata": {
        "id": "view-in-github",
        "colab_type": "text"
      },
      "source": [
        "<a href=\"https://colab.research.google.com/github/francesco-source/Machine-Learning/blob/main/Exam_13_01_2022_classification.ipynb\" target=\"_parent\"><img src=\"https://colab.research.google.com/assets/colab-badge.svg\" alt=\"Open In Colab\"/></a>"
      ]
    },
    {
      "cell_type": "markdown",
      "source": [
        "# Exam of Machine learning 13/01/2022"
      ],
      "metadata": {
        "id": "xjOYMLG3_4jl"
      }
    },
    {
      "cell_type": "code",
      "source": [
        "import pandas as pd\n",
        "import numpy as np\n",
        "import seaborn as sns\n",
        "import matplotlib.pyplot as plt\n",
        "\n",
        "from sklearn.model_selection import train_test_split\n",
        "from sklearn.model_selection import GridSearchCV\n",
        "\n",
        "from sklearn.tree import DecisionTreeClassifier\n",
        "from sklearn.neighbors import KNeighborsClassifier\n",
        "from sklearn.ensemble import RandomForestClassifier\n",
        "\n",
        "from sklearn.metrics import accuracy_score, classification_report, confusion_matrix\n",
        "from sklearn.model_selection import cross_val_score\n",
        "\n",
        "from sklearn.preprocessing import OrdinalEncoder,OneHotEncoder\n",
        "\n",
        "from sklearn.tree import plot_tree\n",
        "from sklearn.metrics import ConfusionMatrixDisplay\n",
        "random_state = 42\n",
        "np.random.seed(random_state)"
      ],
      "metadata": {
        "id": "3MGz6CPWABY9"
      },
      "execution_count": 35,
      "outputs": []
    },
    {
      "cell_type": "markdown",
      "source": [
        "## 1. Load the data and explore them, showing size, structure and histograms of numeric data; show the histogram of the frequencies of the class labels contained in the “language” column"
      ],
      "metadata": {
        "id": "HigNBTnwAn-c"
      }
    },
    {
      "cell_type": "code",
      "source": [
        "data = pd.read_csv(\"exam2022_01_13.csv\")\n",
        "data.head()"
      ],
      "metadata": {
        "colab": {
          "base_uri": "https://localhost:8080/",
          "height": 206
        },
        "id": "LbGn3d0NAsU2",
        "outputId": "4a0b0fe5-086e-4451-cd07-37b5f3367f02"
      },
      "execution_count": 36,
      "outputs": [
        {
          "output_type": "execute_result",
          "data": {
            "text/plain": [
              "  language         X1        X2        X3         X4        X5         X6  \\\n",
              "0       ES   7.071476 -6.512900  7.650800  11.150783 -7.657312  12.484021   \n",
              "1       ES  10.982967 -5.157445  3.952060  11.529381 -7.638047  12.136098   \n",
              "2       ES   7.827108 -5.477472  7.816257   9.187592 -7.172511  11.715299   \n",
              "3       ES   6.744083 -5.688920  6.546789   9.000183 -6.924963  11.710766   \n",
              "4       ES   5.836843 -5.326557  7.472265   8.847440 -6.773244  12.677218   \n",
              "\n",
              "          X7        X8        X9       X10       X11       X12  \n",
              "0 -11.709772  3.426596  1.462715 -2.812753  0.866538 -5.244274  \n",
              "1 -12.036247  3.491943  0.595441 -4.508811  2.332147 -6.221857  \n",
              "2 -13.847214  4.574075 -1.687559 -7.204041 -0.011847 -6.463144  \n",
              "3 -12.374388  6.169879 -0.544747 -6.019237  1.358559 -6.356441  \n",
              "4 -12.315061  4.416344  0.193500 -3.644812  2.151239 -6.816310  "
            ],
            "text/html": [
              "\n",
              "  <div id=\"df-84a4a390-afd3-437b-a21e-7c7aa694987a\">\n",
              "    <div class=\"colab-df-container\">\n",
              "      <div>\n",
              "<style scoped>\n",
              "    .dataframe tbody tr th:only-of-type {\n",
              "        vertical-align: middle;\n",
              "    }\n",
              "\n",
              "    .dataframe tbody tr th {\n",
              "        vertical-align: top;\n",
              "    }\n",
              "\n",
              "    .dataframe thead th {\n",
              "        text-align: right;\n",
              "    }\n",
              "</style>\n",
              "<table border=\"1\" class=\"dataframe\">\n",
              "  <thead>\n",
              "    <tr style=\"text-align: right;\">\n",
              "      <th></th>\n",
              "      <th>language</th>\n",
              "      <th>X1</th>\n",
              "      <th>X2</th>\n",
              "      <th>X3</th>\n",
              "      <th>X4</th>\n",
              "      <th>X5</th>\n",
              "      <th>X6</th>\n",
              "      <th>X7</th>\n",
              "      <th>X8</th>\n",
              "      <th>X9</th>\n",
              "      <th>X10</th>\n",
              "      <th>X11</th>\n",
              "      <th>X12</th>\n",
              "    </tr>\n",
              "  </thead>\n",
              "  <tbody>\n",
              "    <tr>\n",
              "      <th>0</th>\n",
              "      <td>ES</td>\n",
              "      <td>7.071476</td>\n",
              "      <td>-6.512900</td>\n",
              "      <td>7.650800</td>\n",
              "      <td>11.150783</td>\n",
              "      <td>-7.657312</td>\n",
              "      <td>12.484021</td>\n",
              "      <td>-11.709772</td>\n",
              "      <td>3.426596</td>\n",
              "      <td>1.462715</td>\n",
              "      <td>-2.812753</td>\n",
              "      <td>0.866538</td>\n",
              "      <td>-5.244274</td>\n",
              "    </tr>\n",
              "    <tr>\n",
              "      <th>1</th>\n",
              "      <td>ES</td>\n",
              "      <td>10.982967</td>\n",
              "      <td>-5.157445</td>\n",
              "      <td>3.952060</td>\n",
              "      <td>11.529381</td>\n",
              "      <td>-7.638047</td>\n",
              "      <td>12.136098</td>\n",
              "      <td>-12.036247</td>\n",
              "      <td>3.491943</td>\n",
              "      <td>0.595441</td>\n",
              "      <td>-4.508811</td>\n",
              "      <td>2.332147</td>\n",
              "      <td>-6.221857</td>\n",
              "    </tr>\n",
              "    <tr>\n",
              "      <th>2</th>\n",
              "      <td>ES</td>\n",
              "      <td>7.827108</td>\n",
              "      <td>-5.477472</td>\n",
              "      <td>7.816257</td>\n",
              "      <td>9.187592</td>\n",
              "      <td>-7.172511</td>\n",
              "      <td>11.715299</td>\n",
              "      <td>-13.847214</td>\n",
              "      <td>4.574075</td>\n",
              "      <td>-1.687559</td>\n",
              "      <td>-7.204041</td>\n",
              "      <td>-0.011847</td>\n",
              "      <td>-6.463144</td>\n",
              "    </tr>\n",
              "    <tr>\n",
              "      <th>3</th>\n",
              "      <td>ES</td>\n",
              "      <td>6.744083</td>\n",
              "      <td>-5.688920</td>\n",
              "      <td>6.546789</td>\n",
              "      <td>9.000183</td>\n",
              "      <td>-6.924963</td>\n",
              "      <td>11.710766</td>\n",
              "      <td>-12.374388</td>\n",
              "      <td>6.169879</td>\n",
              "      <td>-0.544747</td>\n",
              "      <td>-6.019237</td>\n",
              "      <td>1.358559</td>\n",
              "      <td>-6.356441</td>\n",
              "    </tr>\n",
              "    <tr>\n",
              "      <th>4</th>\n",
              "      <td>ES</td>\n",
              "      <td>5.836843</td>\n",
              "      <td>-5.326557</td>\n",
              "      <td>7.472265</td>\n",
              "      <td>8.847440</td>\n",
              "      <td>-6.773244</td>\n",
              "      <td>12.677218</td>\n",
              "      <td>-12.315061</td>\n",
              "      <td>4.416344</td>\n",
              "      <td>0.193500</td>\n",
              "      <td>-3.644812</td>\n",
              "      <td>2.151239</td>\n",
              "      <td>-6.816310</td>\n",
              "    </tr>\n",
              "  </tbody>\n",
              "</table>\n",
              "</div>\n",
              "      <button class=\"colab-df-convert\" onclick=\"convertToInteractive('df-84a4a390-afd3-437b-a21e-7c7aa694987a')\"\n",
              "              title=\"Convert this dataframe to an interactive table.\"\n",
              "              style=\"display:none;\">\n",
              "        \n",
              "  <svg xmlns=\"http://www.w3.org/2000/svg\" height=\"24px\"viewBox=\"0 0 24 24\"\n",
              "       width=\"24px\">\n",
              "    <path d=\"M0 0h24v24H0V0z\" fill=\"none\"/>\n",
              "    <path d=\"M18.56 5.44l.94 2.06.94-2.06 2.06-.94-2.06-.94-.94-2.06-.94 2.06-2.06.94zm-11 1L8.5 8.5l.94-2.06 2.06-.94-2.06-.94L8.5 2.5l-.94 2.06-2.06.94zm10 10l.94 2.06.94-2.06 2.06-.94-2.06-.94-.94-2.06-.94 2.06-2.06.94z\"/><path d=\"M17.41 7.96l-1.37-1.37c-.4-.4-.92-.59-1.43-.59-.52 0-1.04.2-1.43.59L10.3 9.45l-7.72 7.72c-.78.78-.78 2.05 0 2.83L4 21.41c.39.39.9.59 1.41.59.51 0 1.02-.2 1.41-.59l7.78-7.78 2.81-2.81c.8-.78.8-2.07 0-2.86zM5.41 20L4 18.59l7.72-7.72 1.47 1.35L5.41 20z\"/>\n",
              "  </svg>\n",
              "      </button>\n",
              "      \n",
              "  <style>\n",
              "    .colab-df-container {\n",
              "      display:flex;\n",
              "      flex-wrap:wrap;\n",
              "      gap: 12px;\n",
              "    }\n",
              "\n",
              "    .colab-df-convert {\n",
              "      background-color: #E8F0FE;\n",
              "      border: none;\n",
              "      border-radius: 50%;\n",
              "      cursor: pointer;\n",
              "      display: none;\n",
              "      fill: #1967D2;\n",
              "      height: 32px;\n",
              "      padding: 0 0 0 0;\n",
              "      width: 32px;\n",
              "    }\n",
              "\n",
              "    .colab-df-convert:hover {\n",
              "      background-color: #E2EBFA;\n",
              "      box-shadow: 0px 1px 2px rgba(60, 64, 67, 0.3), 0px 1px 3px 1px rgba(60, 64, 67, 0.15);\n",
              "      fill: #174EA6;\n",
              "    }\n",
              "\n",
              "    [theme=dark] .colab-df-convert {\n",
              "      background-color: #3B4455;\n",
              "      fill: #D2E3FC;\n",
              "    }\n",
              "\n",
              "    [theme=dark] .colab-df-convert:hover {\n",
              "      background-color: #434B5C;\n",
              "      box-shadow: 0px 1px 3px 1px rgba(0, 0, 0, 0.15);\n",
              "      filter: drop-shadow(0px 1px 2px rgba(0, 0, 0, 0.3));\n",
              "      fill: #FFFFFF;\n",
              "    }\n",
              "  </style>\n",
              "\n",
              "      <script>\n",
              "        const buttonEl =\n",
              "          document.querySelector('#df-84a4a390-afd3-437b-a21e-7c7aa694987a button.colab-df-convert');\n",
              "        buttonEl.style.display =\n",
              "          google.colab.kernel.accessAllowed ? 'block' : 'none';\n",
              "\n",
              "        async function convertToInteractive(key) {\n",
              "          const element = document.querySelector('#df-84a4a390-afd3-437b-a21e-7c7aa694987a');\n",
              "          const dataTable =\n",
              "            await google.colab.kernel.invokeFunction('convertToInteractive',\n",
              "                                                     [key], {});\n",
              "          if (!dataTable) return;\n",
              "\n",
              "          const docLinkHtml = 'Like what you see? Visit the ' +\n",
              "            '<a target=\"_blank\" href=https://colab.research.google.com/notebooks/data_table.ipynb>data table notebook</a>'\n",
              "            + ' to learn more about interactive tables.';\n",
              "          element.innerHTML = '';\n",
              "          dataTable['output_type'] = 'display_data';\n",
              "          await google.colab.output.renderOutput(dataTable, element);\n",
              "          const docLink = document.createElement('div');\n",
              "          docLink.innerHTML = docLinkHtml;\n",
              "          element.appendChild(docLink);\n",
              "        }\n",
              "      </script>\n",
              "    </div>\n",
              "  </div>\n",
              "  "
            ]
          },
          "metadata": {},
          "execution_count": 36
        }
      ]
    },
    {
      "cell_type": "code",
      "source": [
        "print(\"The size of the dataset is: \",data.size)"
      ],
      "metadata": {
        "colab": {
          "base_uri": "https://localhost:8080/"
        },
        "id": "lkUMwXm1Bkai",
        "outputId": "c024766b-fab6-46aa-d7b3-e6413426b7a8"
      },
      "execution_count": 37,
      "outputs": [
        {
          "output_type": "stream",
          "name": "stdout",
          "text": [
            "The size of the dataset is:  4277\n"
          ]
        }
      ]
    },
    {
      "cell_type": "code",
      "source": [
        "print(\"The shape of the data is:\",data.shape)"
      ],
      "metadata": {
        "colab": {
          "base_uri": "https://localhost:8080/"
        },
        "id": "7AdKB55qBzVK",
        "outputId": "99db6d7c-b29f-4017-9b2f-6659838928f9"
      },
      "execution_count": 38,
      "outputs": [
        {
          "output_type": "stream",
          "name": "stdout",
          "text": [
            "The shape of the data is: (329, 13)\n"
          ]
        }
      ]
    },
    {
      "cell_type": "code",
      "source": [
        "pd.DataFrame.hist(data\n",
        "                  , figsize = [10,10]\n",
        "                 );"
      ],
      "metadata": {
        "colab": {
          "base_uri": "https://localhost:8080/",
          "height": 607
        },
        "id": "l6Qk6_kCB-ah",
        "outputId": "f2c708f4-afc9-4c89-9c47-407f844fd155"
      },
      "execution_count": 39,
      "outputs": [
        {
          "output_type": "display_data",
          "data": {
            "text/plain": [
              "<Figure size 720x720 with 12 Axes>"
            ],
            "image/png": "[encoded data removed]"
          },
          "metadata": {
            "needs_background": "light"
          }
        }
      ]
    },
    {
      "cell_type": "code",
      "source": [
        "plt.hist(data[\"language\"]);"
      ],
      "metadata": {
        "colab": {
          "base_uri": "https://localhost:8080/",
          "height": 265
        },
        "id": "ULwENDlVCOaj",
        "outputId": "e7b1938e-277b-4345-b5b9-b8a12a3fde36"
      },
      "execution_count": 40,
      "outputs": [
        {
          "output_type": "display_data",
          "data": {
            "text/plain": [
              "<Figure size 432x288 with 1 Axes>"
            ],
            "image/png": "[encoded data removed]"
          },
          "metadata": {
            "needs_background": "light"
          }
        }
      ]
    },
    {
      "cell_type": "markdown",
      "source": [
        "## 2. Drop the rows with NaN values, if any, show the shape of the dataset after this cleaning"
      ],
      "metadata": {
        "id": "ZMY361OACZFL"
      }
    },
    {
      "cell_type": "code",
      "source": [
        "df = data.dropna(axis =0)"
      ],
      "metadata": {
        "id": "-GbJXMKgCck7"
      },
      "execution_count": 41,
      "outputs": []
    },
    {
      "cell_type": "code",
      "source": [
        "print(\"The shape of the dataset after the drop of Nan values is: \",df.shape)"
      ],
      "metadata": {
        "colab": {
          "base_uri": "https://localhost:8080/"
        },
        "id": "lCftI5Q-CsKl",
        "outputId": "4b3d42b9-487d-434a-c211-ad0666d49303"
      },
      "execution_count": 42,
      "outputs": [
        {
          "output_type": "stream",
          "name": "stdout",
          "text": [
            "The shape of the dataset after the drop of Nan values is:  (321, 13)\n"
          ]
        }
      ]
    },
    {
      "cell_type": "markdown",
      "source": [
        "## 3. tune the hyper–parameters of Model1  = DecisionTreeClassifier with Cross Validation on the training set, optimize for recall_macro"
      ],
      "metadata": {
        "id": "6MHbM5BDC4j6"
      }
    },
    {
      "cell_type": "code",
      "source": [
        "X = df.drop(\"language\",axis = 1)\n",
        "y = df[\"language\"]\n",
        "X_train, X_test, y_train, y_test = train_test_split(X,y,random_state = random_state)"
      ],
      "metadata": {
        "id": "S_W208yZC8PU"
      },
      "execution_count": 43,
      "outputs": []
    },
    {
      "cell_type": "code",
      "source": [
        "criterions = [\"gini\",\"entropy\"]\n",
        "param_grid = {'max_depth': list(range(1,20)),\"criterion\":criterions}\n",
        "\n",
        "dt = DecisionTreeClassifier(random_state=random_state)\n",
        "\n",
        "dt_grid_searccv = GridSearchCV(dt,param_grid=param_grid,scoring=\"recall_macro\",cv =5)\n",
        "\n",
        "dt_grid_searccv.fit(X_train,y_train)\n",
        "\n",
        "dt_best = dt_grid_searccv.best_estimator_\n",
        "\n",
        "y_dt = dt_best.predict(X_test)\n",
        "\n",
        "print(\"The best depth is: \",dt_best.get_depth(),\".\")\n",
        "print(\"The best criterion is:\",dt_best.get_params()[\"criterion\"])"
      ],
      "metadata": {
        "colab": {
          "base_uri": "https://localhost:8080/"
        },
        "id": "AEs3BpUhHvHW",
        "outputId": "5f81a37e-70c3-4b13-ff37-06045a826fef"
      },
      "execution_count": 44,
      "outputs": [
        {
          "output_type": "stream",
          "name": "stdout",
          "text": [
            "The best depth is:  7 .\n",
            "The best criterion is: gini\n"
          ]
        }
      ]
    },
    {
      "cell_type": "markdown",
      "source": [
        "## 4.  produce a classification report for Model1 on the test set"
      ],
      "metadata": {
        "id": "5bPJFDjYKQMo"
      }
    },
    {
      "cell_type": "code",
      "source": [
        "print(\"The following is the classification report\")\n",
        "print(classification_report(y_test,y_dt,target_names = np.unique(data[\"language\"].values)))"
      ],
      "metadata": {
        "colab": {
          "base_uri": "https://localhost:8080/"
        },
        "id": "vJcscoK4JC1l",
        "outputId": "87faf08d-f799-4714-90ea-6cd7d372526d"
      },
      "execution_count": 45,
      "outputs": [
        {
          "output_type": "stream",
          "name": "stdout",
          "text": [
            "The following is the classification report\n",
            "              precision    recall  f1-score   support\n",
            "\n",
            "          ES       0.78      0.88      0.82         8\n",
            "          FR       0.50      0.71      0.59         7\n",
            "          GE       0.33      0.33      0.33         9\n",
            "          IT       0.36      0.36      0.36        11\n",
            "          UK       0.20      0.17      0.18         6\n",
            "          US       0.84      0.78      0.81        40\n",
            "\n",
            "    accuracy                           0.63        81\n",
            "   macro avg       0.50      0.54      0.52        81\n",
            "weighted avg       0.64      0.63      0.63        81\n",
            "\n"
          ]
        }
      ]
    },
    {
      "cell_type": "markdown",
      "source": [
        "## 5.  produce the confusion matrix for Model1 on the test set"
      ],
      "metadata": {
        "id": "aAbRa8F2KbFX"
      }
    },
    {
      "cell_type": "code",
      "source": [
        "cfm = confusion_matrix(y_test,y_dt,normalize=\"true\")\n",
        "disp = ConfusionMatrixDisplay.from_estimator(dt_best,X_test,y_test,normalize=\"true\");"
      ],
      "metadata": {
        "colab": {
          "base_uri": "https://localhost:8080/",
          "height": 279
        },
        "id": "4eZqUbmBKb69",
        "outputId": "c4ab2ff6-de49-4da8-b0ac-49eeb1d70fe2"
      },
      "execution_count": 46,
      "outputs": [
        {
          "output_type": "display_data",
          "data": {
            "text/plain": [
              "<Figure size 432x288 with 2 Axes>"
            ],
            "image/png": "[encoded data removed]"
          },
          "metadata": {
            "needs_background": "light"
          }
        }
      ]
    },
    {
      "cell_type": "markdown",
      "source": [
        "## 6.  tune the hyper–parameters of Model2= KNN with Cross Validation on the training set, optimize for recall_macro"
      ],
      "metadata": {
        "id": "Uq3qSv-xK33i"
      }
    },
    {
      "cell_type": "code",
      "source": [
        "knn = KNeighborsClassifier()\n",
        "tuned_param_knn = [{'n_neighbors': [ 2, 3, 4, 5, 6, 7, 8, 9, 10]}]\n",
        "model = GridSearchCV(estimator = knn, param_grid=tuned_param_knn, scoring = \"recall_macro\")\n",
        "model.fit(X_train,y_train)\n",
        "knn = model.best_estimator_\n",
        "y_knn = knn.predict(X_test)\n",
        "\n"
      ],
      "metadata": {
        "id": "PS8OHBvBL0ts"
      },
      "execution_count": 47,
      "outputs": []
    },
    {
      "cell_type": "code",
      "source": [
        "print(\"The best n_neighbors is:\",knn.get_params()[\"n_neighbors\"])"
      ],
      "metadata": {
        "colab": {
          "base_uri": "https://localhost:8080/"
        },
        "id": "OzrykGTrMR2J",
        "outputId": "f8507b90-1549-4031-dca4-52de8df4ae56"
      },
      "execution_count": 48,
      "outputs": [
        {
          "output_type": "stream",
          "name": "stdout",
          "text": [
            "The best n_neighbors is: 3\n"
          ]
        }
      ]
    },
    {
      "cell_type": "markdown",
      "source": [
        "## 7. produce a classification report for Model2 on the test set"
      ],
      "metadata": {
        "id": "24D5yXdzM1ba"
      }
    },
    {
      "cell_type": "code",
      "source": [
        "print(\"The following is the classification report\")\n",
        "print(classification_report(y_test,y_knn,target_names = np.unique(data[\"language\"].values)))"
      ],
      "metadata": {
        "colab": {
          "base_uri": "https://localhost:8080/"
        },
        "id": "5hEbGsQ4M4X2",
        "outputId": "b3ef6d50-8243-490a-99f2-8ab991049b8f"
      },
      "execution_count": 49,
      "outputs": [
        {
          "output_type": "stream",
          "name": "stdout",
          "text": [
            "The following is the classification report\n",
            "              precision    recall  f1-score   support\n",
            "\n",
            "          ES       0.78      0.88      0.82         8\n",
            "          FR       0.75      0.86      0.80         7\n",
            "          GE       0.62      0.89      0.73         9\n",
            "          IT       0.86      0.55      0.67        11\n",
            "          UK       0.75      0.50      0.60         6\n",
            "          US       0.88      0.88      0.88        40\n",
            "\n",
            "    accuracy                           0.80        81\n",
            "   macro avg       0.77      0.76      0.75        81\n",
            "weighted avg       0.81      0.80      0.80        81\n",
            "\n"
          ]
        }
      ]
    },
    {
      "cell_type": "markdown",
      "source": [
        "## 8. produce the confusion matrix for Model2 on the test set"
      ],
      "metadata": {
        "id": "mc5naAZLM9kO"
      }
    },
    {
      "cell_type": "code",
      "source": [
        "cfm = confusion_matrix(y_test,y_dt,normalize=\"true\")\n",
        "disp = ConfusionMatrixDisplay.from_estimator(knn,X_test,y_test,normalize=\"true\");"
      ],
      "metadata": {
        "colab": {
          "base_uri": "https://localhost:8080/",
          "height": 279
        },
        "id": "nstsrKQWNBAy",
        "outputId": "b39109a3-eda7-4a37-c6e3-3ed6b9e0e699"
      },
      "execution_count": 50,
      "outputs": [
        {
          "output_type": "display_data",
          "data": {
            "text/plain": [
              "<Figure size 432x288 with 2 Axes>"
            ],
            "image/png": "[encoded data removed]"
          },
          "metadata": {
            "needs_background": "light"
          }
        }
      ]
    },
    {
      "cell_type": "markdown",
      "source": [
        "## 9.  Tune the hyper–parameters of Model3 = RandomForest with Cross Validation on the training set, optimize for recall_macro"
      ],
      "metadata": {
        "id": "jcn5zWj8NjtO"
      }
    },
    {
      "cell_type": "code",
      "source": [
        "rf = RandomForestClassifier(random_state=random_state)\n",
        "\n",
        "parameters = {'max_depth':list(range(1,10)),'n_estimators':list(range(10,100,10))}\n",
        "\n",
        "rf_grid_searccv = GridSearchCV(rf,param_grid=parameters,scoring=\"recall_macro\")\n",
        "\n",
        "rf_grid_searccv.fit(X_train,y_train)\n",
        "\n",
        "rf_best = rf_grid_searccv.best_estimator_\n",
        "\n",
        "y_rf = rf_best.predict(X_test)\n"
      ],
      "metadata": {
        "id": "b3lZBBGdNqjz"
      },
      "execution_count": 51,
      "outputs": []
    },
    {
      "cell_type": "code",
      "source": [
        "print(\"The best number of depth: \",rf_best.get_params()[\"max_depth\"])\n",
        "print(\"The best number of n_estimators: \",rf_best.get_params()[\"n_estimators\"])"
      ],
      "metadata": {
        "colab": {
          "base_uri": "https://localhost:8080/"
        },
        "id": "usXROOxyOBzX",
        "outputId": "5d607e53-6436-4218-dd1c-8f74140f37d7"
      },
      "execution_count": 52,
      "outputs": [
        {
          "output_type": "stream",
          "name": "stdout",
          "text": [
            "The best number of depth:  9\n",
            "The best number of n_estimators:  70\n"
          ]
        }
      ]
    },
    {
      "cell_type": "markdown",
      "source": [
        "## 10.  Produce a classification report for Model3 on the test set"
      ],
      "metadata": {
        "id": "w2rlS_SBOmNa"
      }
    },
    {
      "cell_type": "code",
      "source": [
        "print(\"The following is the classification report\")\n",
        "print(classification_report(y_test,y_rf,target_names = np.unique(data[\"language\"].values)))"
      ],
      "metadata": {
        "colab": {
          "base_uri": "https://localhost:8080/"
        },
        "id": "qii7HcMKOrUl",
        "outputId": "11571cae-b177-4b83-a1bf-57cb1f5eb186"
      },
      "execution_count": 53,
      "outputs": [
        {
          "output_type": "stream",
          "name": "stdout",
          "text": [
            "The following is the classification report\n",
            "              precision    recall  f1-score   support\n",
            "\n",
            "          ES       1.00      1.00      1.00         8\n",
            "          FR       1.00      0.57      0.73         7\n",
            "          GE       0.75      0.33      0.46         9\n",
            "          IT       0.50      0.45      0.48        11\n",
            "          UK       0.60      0.50      0.55         6\n",
            "          US       0.76      0.95      0.84        40\n",
            "\n",
            "    accuracy                           0.75        81\n",
            "   macro avg       0.77      0.63      0.68        81\n",
            "weighted avg       0.76      0.75      0.73        81\n",
            "\n"
          ]
        }
      ]
    },
    {
      "cell_type": "markdown",
      "source": [
        "## 11. Produce the confusion matrix for Model3 on the test set"
      ],
      "metadata": {
        "id": "umBfn0FjO1H7"
      }
    },
    {
      "cell_type": "code",
      "source": [
        "c_f_m = confusion_matrix(y_test,y_rf,normalize=\"true\")\n",
        "disp = ConfusionMatrixDisplay.from_estimator(rf_best,X_test,y_test,normalize=\"true\")\n",
        "print(ConfusionMatrixDisplay(c_f_m))"
      ],
      "metadata": {
        "colab": {
          "base_uri": "https://localhost:8080/",
          "height": 300
        },
        "id": "SEeG50y4N4E8",
        "outputId": "8219dbb2-5758-42a4-8edd-00f4d3de77d1"
      },
      "execution_count": 54,
      "outputs": [
        {
          "output_type": "stream",
          "name": "stdout",
          "text": [
            "<sklearn.metrics._plot.confusion_matrix.ConfusionMatrixDisplay object at 0x7f1e293b7cd0>\n"
          ]
        },
        {
          "output_type": "display_data",
          "data": {
            "text/plain": [
              "<Figure size 432x288 with 2 Axes>"
            ],
            "image/png": "[encoded data removed]"
          },
          "metadata": {
            "needs_background": "light"
          }
        }
      ]
    },
    {
      "cell_type": "markdown",
      "source": [
        "The overall best classification model in this case is KNN, but the ore two classify better some of the languages. "
      ],
      "metadata": {
        "id": "nxkRnspzPOYP"
      }
    }
  ]
}