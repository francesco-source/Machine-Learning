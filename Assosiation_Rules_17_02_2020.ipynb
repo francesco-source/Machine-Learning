{
  "nbformat": 4,
  "nbformat_minor": 0,
  "metadata": {
    "colab": {
      "provenance": [],
      "authorship_tag": "ABX9TyMEFsEVbK9q2uA0eZu2QX29",
      "include_colab_link": true
    },
    "kernelspec": {
      "name": "python3",
      "display_name": "Python 3"
    },
    "language_info": {
      "name": "python"
    }
  },
  "cells": [
    {
      "cell_type": "markdown",
      "metadata": {
        "id": "view-in-github",
        "colab_type": "text"
      },
      "source": [
        "<a href=\"https://colab.research.google.com/github/francesco-source/Machine-Learning/blob/main/Assosiation_Rules_17_02_2020.ipynb\" target=\"_parent\"><img src=\"https://colab.research.google.com/assets/colab-badge.svg\" alt=\"Open In Colab\"/></a>"
      ]
    },
    {
      "cell_type": "markdown",
      "source": [
        "# Assosiation Rules Exam 17/02/202"
      ],
      "metadata": {
        "id": "E_b2mgz_fIW6"
      }
    },
    {
      "cell_type": "code",
      "source": [
        "import pandas as pd\n",
        "import numpy as np\n",
        "import matplotlib.pyplot as plt\n",
        "import seaborn as sns\n",
        "from mlxtend.preprocessing import TransactionEncoder\n",
        "from mlxtend.frequent_patterns import apriori\n",
        "from mlxtend.frequent_patterns import association_rules"
      ],
      "metadata": {
        "id": "XQm_VRF2fN9e"
      },
      "execution_count": 1,
      "outputs": []
    },
    {
      "cell_type": "markdown",
      "source": [
        "## 1.  Read a transactions database in sparse format from a txt file into a list of lists. The file contains one transaction per line, each line has a variable number of items, separated by a separator. The external list will have a list for each transaction, each transaction is a list of items. Show the first two transactions.\n"
      ],
      "metadata": {
        "id": "qJNy9yhtgXRv"
      }
    },
    {
      "cell_type": "code",
      "source": [
        "file1 = open('online_retail_red.txt', 'r')\n",
        "Lines = file1.readlines()\n",
        "# Strips the newline character\n",
        "data_list = [line[:-1].split(\";\") for line in Lines]\n",
        "print(\"The first transaction is: \",data_list[0])\n",
        "print(\"The second transaction is: \",data_list[1])"
      ],
      "metadata": {
        "colab": {
          "base_uri": "https://localhost:8080/"
        },
        "id": "FuyJtSZqgd6d",
        "outputId": "b0ae83b6-8b06-4639-8c89-ec283980d2c1"
      },
      "execution_count": 10,
      "outputs": [
        {
          "output_type": "stream",
          "name": "stdout",
          "text": [
            "The first transaction is:  ['CREAM CUPID HEARTS COAT HANGER', 'GLASS STAR FROSTED T-LIGHT HOLDER', 'KNITTED UNION FLAG HOT WATER BOTTLE', 'RED WOOLLY HOTTIE WHITE HEART.', 'SET 7 BABUSHKA NESTING BOXES', 'WHITE HANGING HEART T-LIGHT HOLDER', 'WHITE METAL LANTERN']\n",
            "The second transaction is:  ['HAND WARMER RED POLKA DOT', 'HAND WARMER UNION JACK']\n"
          ]
        }
      ]
    },
    {
      "cell_type": "markdown",
      "source": [
        "## 2.  Encode the list of lists into a binary representation and transform it into a dataframe whose columns are the items show the head of that dataframe"
      ],
      "metadata": {
        "id": "VSSRihnKk5wK"
      }
    },
    {
      "cell_type": "code",
      "source": [
        "encoder = TransactionEncoder()\n",
        "encoded_transactions = encoder.fit_transform(data_list)\n",
        "df = pd.DataFrame(encoded_transactions,columns = encoder.columns_)\n",
        "df.head()"
      ],
      "metadata": {
        "colab": {
          "base_uri": "https://localhost:8080/",
          "height": 386
        },
        "id": "qKuhwYSUkegI",
        "outputId": "228c69ff-e177-4b84-a2af-f5afdb989fd1"
      },
      "execution_count": 13,
      "outputs": [
        {
          "output_type": "execute_result",
          "data": {
            "text/plain": [
              "   10 COLOUR SPACEBOY PEN  12 COLOURED PARTY BALLOONS  \\\n",
              "0                   False                       False   \n",
              "1                   False                       False   \n",
              "2                   False                       False   \n",
              "3                   False                       False   \n",
              "4                   False                       False   \n",
              "\n",
              "   12 DAISY PEGS IN WOOD BOX  12 EGG HOUSE PAINTED WOOD  \\\n",
              "0                      False                      False   \n",
              "1                      False                      False   \n",
              "2                      False                      False   \n",
              "3                      False                      False   \n",
              "4                      False                      False   \n",
              "\n",
              "   12 IVORY ROSE PEG PLACE SETTINGS  12 MESSAGE CARDS WITH ENVELOPES  \\\n",
              "0                             False                            False   \n",
              "1                             False                            False   \n",
              "2                             False                            False   \n",
              "3                             False                            False   \n",
              "4                             False                            False   \n",
              "\n",
              "   12 PENCIL SMALL TUBE WOODLAND  12 PENCILS SMALL TUBE RED RETROSPOT  \\\n",
              "0                          False                                False   \n",
              "1                          False                                False   \n",
              "2                          False                                False   \n",
              "3                          False                                False   \n",
              "4                          False                                False   \n",
              "\n",
              "   12 PENCILS SMALL TUBE SKULL  12 PENCILS TALL TUBE POSY  ...  \\\n",
              "0                        False                      False  ...   \n",
              "1                        False                      False  ...   \n",
              "2                        False                      False  ...   \n",
              "3                        False                      False  ...   \n",
              "4                        False                      False  ...   \n",
              "\n",
              "   ZINC HEART LATTICE T-LIGHT HOLDER  ZINC HEARTS PLANT POT HOLDER  \\\n",
              "0                              False                         False   \n",
              "1                              False                         False   \n",
              "2                              False                         False   \n",
              "3                              False                         False   \n",
              "4                              False                         False   \n",
              "\n",
              "   ZINC HERB GARDEN CONTAINER  ZINC METAL HEART DECORATION  \\\n",
              "0                       False                        False   \n",
              "1                       False                        False   \n",
              "2                       False                        False   \n",
              "3                       False                        False   \n",
              "4                       False                        False   \n",
              "\n",
              "   ZINC SWEETHEART SOAP DISH  ZINC SWEETHEART WIRE LETTER RACK  \\\n",
              "0                      False                             False   \n",
              "1                      False                             False   \n",
              "2                      False                             False   \n",
              "3                      False                             False   \n",
              "4                      False                             False   \n",
              "\n",
              "   ZINC T-LIGHT HOLDER STAR LARGE  ZINC T-LIGHT HOLDER STARS SMALL  \\\n",
              "0                           False                            False   \n",
              "1                           False                            False   \n",
              "2                           False                            False   \n",
              "3                           False                            False   \n",
              "4                           False                            False   \n",
              "\n",
              "   ZINC WILLIE WINKIE  CANDLE STICK  ZINC WIRE SWEETHEART LETTER TRAY  \n",
              "0                             False                             False  \n",
              "1                             False                             False  \n",
              "2                             False                             False  \n",
              "3                             False                             False  \n",
              "4                             False                             False  \n",
              "\n",
              "[5 rows x 2968 columns]"
            ],
            "text/html": [
              "\n",
              "  <div id=\"df-f7ac8651-5a6c-4149-85c2-051e6c1aab62\">\n",
              "    <div class=\"colab-df-container\">\n",
              "      <div>\n",
              "<style scoped>\n",
              "    .dataframe tbody tr th:only-of-type {\n",
              "        vertical-align: middle;\n",
              "    }\n",
              "\n",
              "    .dataframe tbody tr th {\n",
              "        vertical-align: top;\n",
              "    }\n",
              "\n",
              "    .dataframe thead th {\n",
              "        text-align: right;\n",
              "    }\n",
              "</style>\n",
              "<table border=\"1\" class=\"dataframe\">\n",
              "  <thead>\n",
              "    <tr style=\"text-align: right;\">\n",
              "      <th></th>\n",
              "      <th>10 COLOUR SPACEBOY PEN</th>\n",
              "      <th>12 COLOURED PARTY BALLOONS</th>\n",
              "      <th>12 DAISY PEGS IN WOOD BOX</th>\n",
              "      <th>12 EGG HOUSE PAINTED WOOD</th>\n",
              "      <th>12 IVORY ROSE PEG PLACE SETTINGS</th>\n",
              "      <th>12 MESSAGE CARDS WITH ENVELOPES</th>\n",
              "      <th>12 PENCIL SMALL TUBE WOODLAND</th>\n",
              "      <th>12 PENCILS SMALL TUBE RED RETROSPOT</th>\n",
              "      <th>12 PENCILS SMALL TUBE SKULL</th>\n",
              "      <th>12 PENCILS TALL TUBE POSY</th>\n",
              "      <th>...</th>\n",
              "      <th>ZINC HEART LATTICE T-LIGHT HOLDER</th>\n",
              "      <th>ZINC HEARTS PLANT POT HOLDER</th>\n",
              "      <th>ZINC HERB GARDEN CONTAINER</th>\n",
              "      <th>ZINC METAL HEART DECORATION</th>\n",
              "      <th>ZINC SWEETHEART SOAP DISH</th>\n",
              "      <th>ZINC SWEETHEART WIRE LETTER RACK</th>\n",
              "      <th>ZINC T-LIGHT HOLDER STAR LARGE</th>\n",
              "      <th>ZINC T-LIGHT HOLDER STARS SMALL</th>\n",
              "      <th>ZINC WILLIE WINKIE  CANDLE STICK</th>\n",
              "      <th>ZINC WIRE SWEETHEART LETTER TRAY</th>\n",
              "    </tr>\n",
              "  </thead>\n",
              "  <tbody>\n",
              "    <tr>\n",
              "      <th>0</th>\n",
              "      <td>False</td>\n",
              "      <td>False</td>\n",
              "      <td>False</td>\n",
              "      <td>False</td>\n",
              "      <td>False</td>\n",
              "      <td>False</td>\n",
              "      <td>False</td>\n",
              "      <td>False</td>\n",
              "      <td>False</td>\n",
              "      <td>False</td>\n",
              "      <td>...</td>\n",
              "      <td>False</td>\n",
              "      <td>False</td>\n",
              "      <td>False</td>\n",
              "      <td>False</td>\n",
              "      <td>False</td>\n",
              "      <td>False</td>\n",
              "      <td>False</td>\n",
              "      <td>False</td>\n",
              "      <td>False</td>\n",
              "      <td>False</td>\n",
              "    </tr>\n",
              "    <tr>\n",
              "      <th>1</th>\n",
              "      <td>False</td>\n",
              "      <td>False</td>\n",
              "      <td>False</td>\n",
              "      <td>False</td>\n",
              "      <td>False</td>\n",
              "      <td>False</td>\n",
              "      <td>False</td>\n",
              "      <td>False</td>\n",
              "      <td>False</td>\n",
              "      <td>False</td>\n",
              "      <td>...</td>\n",
              "      <td>False</td>\n",
              "      <td>False</td>\n",
              "      <td>False</td>\n",
              "      <td>False</td>\n",
              "      <td>False</td>\n",
              "      <td>False</td>\n",
              "      <td>False</td>\n",
              "      <td>False</td>\n",
              "      <td>False</td>\n",
              "      <td>False</td>\n",
              "    </tr>\n",
              "    <tr>\n",
              "      <th>2</th>\n",
              "      <td>False</td>\n",
              "      <td>False</td>\n",
              "      <td>False</td>\n",
              "      <td>False</td>\n",
              "      <td>False</td>\n",
              "      <td>False</td>\n",
              "      <td>False</td>\n",
              "      <td>False</td>\n",
              "      <td>False</td>\n",
              "      <td>False</td>\n",
              "      <td>...</td>\n",
              "      <td>False</td>\n",
              "      <td>False</td>\n",
              "      <td>False</td>\n",
              "      <td>False</td>\n",
              "      <td>False</td>\n",
              "      <td>False</td>\n",
              "      <td>False</td>\n",
              "      <td>False</td>\n",
              "      <td>False</td>\n",
              "      <td>False</td>\n",
              "    </tr>\n",
              "    <tr>\n",
              "      <th>3</th>\n",
              "      <td>False</td>\n",
              "      <td>False</td>\n",
              "      <td>False</td>\n",
              "      <td>False</td>\n",
              "      <td>False</td>\n",
              "      <td>False</td>\n",
              "      <td>False</td>\n",
              "      <td>False</td>\n",
              "      <td>False</td>\n",
              "      <td>False</td>\n",
              "      <td>...</td>\n",
              "      <td>False</td>\n",
              "      <td>False</td>\n",
              "      <td>False</td>\n",
              "      <td>False</td>\n",
              "      <td>False</td>\n",
              "      <td>False</td>\n",
              "      <td>False</td>\n",
              "      <td>False</td>\n",
              "      <td>False</td>\n",
              "      <td>False</td>\n",
              "    </tr>\n",
              "    <tr>\n",
              "      <th>4</th>\n",
              "      <td>False</td>\n",
              "      <td>False</td>\n",
              "      <td>False</td>\n",
              "      <td>False</td>\n",
              "      <td>False</td>\n",
              "      <td>False</td>\n",
              "      <td>False</td>\n",
              "      <td>False</td>\n",
              "      <td>False</td>\n",
              "      <td>False</td>\n",
              "      <td>...</td>\n",
              "      <td>False</td>\n",
              "      <td>False</td>\n",
              "      <td>False</td>\n",
              "      <td>False</td>\n",
              "      <td>False</td>\n",
              "      <td>False</td>\n",
              "      <td>False</td>\n",
              "      <td>False</td>\n",
              "      <td>False</td>\n",
              "      <td>False</td>\n",
              "    </tr>\n",
              "  </tbody>\n",
              "</table>\n",
              "<p>5 rows × 2968 columns</p>\n",
              "</div>\n",
              "      <button class=\"colab-df-convert\" onclick=\"convertToInteractive('df-f7ac8651-5a6c-4149-85c2-051e6c1aab62')\"\n",
              "              title=\"Convert this dataframe to an interactive table.\"\n",
              "              style=\"display:none;\">\n",
              "        \n",
              "  <svg xmlns=\"http://www.w3.org/2000/svg\" height=\"24px\"viewBox=\"0 0 24 24\"\n",
              "       width=\"24px\">\n",
              "    <path d=\"M0 0h24v24H0V0z\" fill=\"none\"/>\n",
              "    <path d=\"M18.56 5.44l.94 2.06.94-2.06 2.06-.94-2.06-.94-.94-2.06-.94 2.06-2.06.94zm-11 1L8.5 8.5l.94-2.06 2.06-.94-2.06-.94L8.5 2.5l-.94 2.06-2.06.94zm10 10l.94 2.06.94-2.06 2.06-.94-2.06-.94-.94-2.06-.94 2.06-2.06.94z\"/><path d=\"M17.41 7.96l-1.37-1.37c-.4-.4-.92-.59-1.43-.59-.52 0-1.04.2-1.43.59L10.3 9.45l-7.72 7.72c-.78.78-.78 2.05 0 2.83L4 21.41c.39.39.9.59 1.41.59.51 0 1.02-.2 1.41-.59l7.78-7.78 2.81-2.81c.8-.78.8-2.07 0-2.86zM5.41 20L4 18.59l7.72-7.72 1.47 1.35L5.41 20z\"/>\n",
              "  </svg>\n",
              "      </button>\n",
              "      \n",
              "  <style>\n",
              "    .colab-df-container {\n",
              "      display:flex;\n",
              "      flex-wrap:wrap;\n",
              "      gap: 12px;\n",
              "    }\n",
              "\n",
              "    .colab-df-convert {\n",
              "      background-color: #E8F0FE;\n",
              "      border: none;\n",
              "      border-radius: 50%;\n",
              "      cursor: pointer;\n",
              "      display: none;\n",
              "      fill: #1967D2;\n",
              "      height: 32px;\n",
              "      padding: 0 0 0 0;\n",
              "      width: 32px;\n",
              "    }\n",
              "\n",
              "    .colab-df-convert:hover {\n",
              "      background-color: #E2EBFA;\n",
              "      box-shadow: 0px 1px 2px rgba(60, 64, 67, 0.3), 0px 1px 3px 1px rgba(60, 64, 67, 0.15);\n",
              "      fill: #174EA6;\n",
              "    }\n",
              "\n",
              "    [theme=dark] .colab-df-convert {\n",
              "      background-color: #3B4455;\n",
              "      fill: #D2E3FC;\n",
              "    }\n",
              "\n",
              "    [theme=dark] .colab-df-convert:hover {\n",
              "      background-color: #434B5C;\n",
              "      box-shadow: 0px 1px 3px 1px rgba(0, 0, 0, 0.15);\n",
              "      filter: drop-shadow(0px 1px 2px rgba(0, 0, 0, 0.3));\n",
              "      fill: #FFFFFF;\n",
              "    }\n",
              "  </style>\n",
              "\n",
              "      <script>\n",
              "        const buttonEl =\n",
              "          document.querySelector('#df-f7ac8651-5a6c-4149-85c2-051e6c1aab62 button.colab-df-convert');\n",
              "        buttonEl.style.display =\n",
              "          google.colab.kernel.accessAllowed ? 'block' : 'none';\n",
              "\n",
              "        async function convertToInteractive(key) {\n",
              "          const element = document.querySelector('#df-f7ac8651-5a6c-4149-85c2-051e6c1aab62');\n",
              "          const dataTable =\n",
              "            await google.colab.kernel.invokeFunction('convertToInteractive',\n",
              "                                                     [key], {});\n",
              "          if (!dataTable) return;\n",
              "\n",
              "          const docLinkHtml = 'Like what you see? Visit the ' +\n",
              "            '<a target=\"_blank\" href=https://colab.research.google.com/notebooks/data_table.ipynb>data table notebook</a>'\n",
              "            + ' to learn more about interactive tables.';\n",
              "          element.innerHTML = '';\n",
              "          dataTable['output_type'] = 'display_data';\n",
              "          await google.colab.output.renderOutput(dataTable, element);\n",
              "          const docLink = document.createElement('div');\n",
              "          docLink.innerHTML = docLinkHtml;\n",
              "          element.appendChild(docLink);\n",
              "        }\n",
              "      </script>\n",
              "    </div>\n",
              "  </div>\n",
              "  "
            ]
          },
          "metadata": {},
          "execution_count": 13
        }
      ]
    },
    {
      "cell_type": "markdown",
      "source": [
        "## 3.  Find a value of min_support such that the apriori algorithm generates at least 8 frequent itemsets with at least 2 items. Output the result with the message below\n"
      ],
      "metadata": {
        "id": "iYvZIH2Zk-Cz"
      }
    },
    {
      "cell_type": "code",
      "source": [
        "min_itemsets = 8\n",
        "\n",
        "min_item_in_itemset = 2\n",
        "\n",
        "# \"Reasonable\" range\n",
        "support_range = np.arange(0.1, 0.01, -0.01)"
      ],
      "metadata": {
        "id": "FCtZV6FSlC61"
      },
      "execution_count": 14,
      "outputs": []
    },
    {
      "cell_type": "code",
      "source": [
        "min_support = 0\n",
        "\n",
        "for s_value in support_range:\n",
        "  print(f\"Trying support value {s_value:.2f}\")\n",
        "\n",
        "  frequent_itemsets = apriori(df, min_support = s_value, use_colnames = True)\n",
        "\n",
        "  frequent_itemsets[\"len\"] = frequent_itemsets['itemsets'].apply(lambda x: len(x))\n",
        "\n",
        "# Calculate the number of itemsets that contain at least min_item_in_itemset items\n",
        "  frequent_itemstets_len = len([i for i in frequent_itemsets[\"len\"].values if i >= min_item_in_itemset])\n",
        "\n",
        "  if frequent_itemstets_len >=min_itemsets:\n",
        "    break\n",
        "print(\"I've selected as a support:\",np.round(s_value,2))\n",
        "print(\"It produces a number of item_sets equal to:\",frequent_itemstets_len,\"with a number of min samples per items equal to:\",2)"
      ],
      "metadata": {
        "colab": {
          "base_uri": "https://localhost:8080/"
        },
        "id": "x6nng76_lTWg",
        "outputId": "1e168e4c-810e-4b36-af0c-8d2363a9e0a9"
      },
      "execution_count": 15,
      "outputs": [
        {
          "output_type": "stream",
          "name": "stdout",
          "text": [
            "Trying support value 0.10\n",
            "Trying support value 0.09\n",
            "Trying support value 0.08\n",
            "Trying support value 0.07\n",
            "Trying support value 0.06\n",
            "Trying support value 0.05\n",
            "Trying support value 0.04\n",
            "Trying support value 0.03\n",
            "I've selected as a support: 0.03\n",
            "It produces a number of item_sets equal to: 12 with a number of min samples per items equal to: 2\n"
          ]
        }
      ]
    },
    {
      "cell_type": "markdown",
      "source": [
        "## 4. Find the minimum metric threshold such that at least 10 association rules are extracted from the frequent itemsets found "
      ],
      "metadata": {
        "id": "0GcJxmHxlkDu"
      }
    },
    {
      "cell_type": "code",
      "source": [
        "metric = \"confidence\"\n",
        "\n",
        "num_rules = 10\n",
        "\n",
        "threshold = np.arange(1,0.01,-0.01)\n",
        "min_t = 0\n",
        "\n",
        "for t in threshold:\n",
        "\n",
        "  min_t = t\n",
        "\n",
        "  rules = association_rules(frequent_itemsets, metric=metric, min_threshold=t)\n",
        "\n",
        "  if len(rules[\"confidence\"].values)>=num_rules:\n",
        "\n",
        "    break\n",
        "\n",
        "print(\"The minimun threshold for confidence is equal to: \",np.round(min_t,4),\" in order to generate \",num_rules,\" rules.\")"
      ],
      "metadata": {
        "colab": {
          "base_uri": "https://localhost:8080/"
        },
        "id": "LhunTPxYlqft",
        "outputId": "2c8ead05-0ec5-4dba-d28a-5570087c91db"
      },
      "execution_count": 16,
      "outputs": [
        {
          "output_type": "stream",
          "name": "stdout",
          "text": [
            "The minimun threshold for confidence is equal to:  0.61  in order to generate  10  rules.\n"
          ]
        }
      ]
    },
    {
      "cell_type": "markdown",
      "source": [
        "## 5. Print the first 10 rules found, sorted by descending confidence and support"
      ],
      "metadata": {
        "id": "00YA9qP7mKkO"
      }
    },
    {
      "cell_type": "code",
      "source": [
        "sorted_rules = rules.sort_values(by = [\"confidence\",\"support\"],ascending=False).head(10)\n",
        "sorted_rules"
      ],
      "metadata": {
        "colab": {
          "base_uri": "https://localhost:8080/",
          "height": 363
        },
        "id": "VZotBN_BmMC9",
        "outputId": "ac07de65-4c07-40fb-96fc-37b990b30167"
      },
      "execution_count": 18,
      "outputs": [
        {
          "output_type": "execute_result",
          "data": {
            "text/plain": [
              "                            antecedents                         consequents  \\\n",
              "2      (PINK REGENCY TEACUP AND SAUCER)   (GREEN REGENCY TEACUP AND SAUCER)   \n",
              "10     (PINK REGENCY TEACUP AND SAUCER)   (ROSES REGENCY TEACUP AND SAUCER)   \n",
              "4     (GREEN REGENCY TEACUP AND SAUCER)   (ROSES REGENCY TEACUP AND SAUCER)   \n",
              "5     (ROSES REGENCY TEACUP AND SAUCER)   (GREEN REGENCY TEACUP AND SAUCER)   \n",
              "1   (GARDENERS KNEELING PAD CUP OF TEA)  (GARDENERS KNEELING PAD KEEP CALM)   \n",
              "7             (JUMBO BAG PINK POLKADOT)           (JUMBO BAG RED RETROSPOT)   \n",
              "9   (PAPER CHAIN KIT VINTAGE CHRISTMAS)    (PAPER CHAIN KIT 50'S CHRISTMAS)   \n",
              "0          (ALARM CLOCK BAKELIKE GREEN)          (ALARM CLOCK BAKELIKE RED)   \n",
              "6      (JUMBO  BAG BAROQUE BLACK WHITE)           (JUMBO BAG RED RETROSPOT)   \n",
              "3     (GREEN REGENCY TEACUP AND SAUCER)    (PINK REGENCY TEACUP AND SAUCER)   \n",
              "\n",
              "    antecedent support  consequent support   support  confidence       lift  \\\n",
              "2             0.039331            0.052255  0.032282    0.820768  15.707077   \n",
              "10            0.039331            0.053541  0.030547    0.776671  14.505982   \n",
              "4             0.052255            0.053541  0.039219    0.750535  14.017835   \n",
              "5             0.053541            0.052255  0.039219    0.732497  14.017835   \n",
              "1             0.041960            0.050241  0.030267    0.721333  14.357586   \n",
              "7             0.064843            0.108426  0.043919    0.677308   6.246751   \n",
              "9             0.044758            0.062941  0.030100    0.672500  10.684680   \n",
              "0             0.049010            0.052031  0.031498    0.642694  12.352165   \n",
              "6             0.050912            0.108426  0.031890    0.626374   5.776988   \n",
              "3             0.052255            0.039331  0.032282    0.617773  15.707077   \n",
              "\n",
              "    leverage  conviction  \n",
              "2   0.030226    5.287817  \n",
              "10  0.028441    4.237964  \n",
              "4   0.036421    3.793958  \n",
              "5   0.036421    3.542939  \n",
              "1   0.028159    3.408228  \n",
              "7   0.036888    2.762927  \n",
              "9   0.027283    2.861250  \n",
              "0   0.028948    2.653102  \n",
              "6   0.026370    2.386273  \n",
              "3   0.030226    2.513347  "
            ],
            "text/html": [
              "\n",
              "  <div id=\"df-cecc995b-a5fc-4558-9f82-0bf2d8e56f68\">\n",
              "    <div class=\"colab-df-container\">\n",
              "      <div>\n",
              "<style scoped>\n",
              "    .dataframe tbody tr th:only-of-type {\n",
              "        vertical-align: middle;\n",
              "    }\n",
              "\n",
              "    .dataframe tbody tr th {\n",
              "        vertical-align: top;\n",
              "    }\n",
              "\n",
              "    .dataframe thead th {\n",
              "        text-align: right;\n",
              "    }\n",
              "</style>\n",
              "<table border=\"1\" class=\"dataframe\">\n",
              "  <thead>\n",
              "    <tr style=\"text-align: right;\">\n",
              "      <th></th>\n",
              "      <th>antecedents</th>\n",
              "      <th>consequents</th>\n",
              "      <th>antecedent support</th>\n",
              "      <th>consequent support</th>\n",
              "      <th>support</th>\n",
              "      <th>confidence</th>\n",
              "      <th>lift</th>\n",
              "      <th>leverage</th>\n",
              "      <th>conviction</th>\n",
              "    </tr>\n",
              "  </thead>\n",
              "  <tbody>\n",
              "    <tr>\n",
              "      <th>2</th>\n",
              "      <td>(PINK REGENCY TEACUP AND SAUCER)</td>\n",
              "      <td>(GREEN REGENCY TEACUP AND SAUCER)</td>\n",
              "      <td>0.039331</td>\n",
              "      <td>0.052255</td>\n",
              "      <td>0.032282</td>\n",
              "      <td>0.820768</td>\n",
              "      <td>15.707077</td>\n",
              "      <td>0.030226</td>\n",
              "      <td>5.287817</td>\n",
              "    </tr>\n",
              "    <tr>\n",
              "      <th>10</th>\n",
              "      <td>(PINK REGENCY TEACUP AND SAUCER)</td>\n",
              "      <td>(ROSES REGENCY TEACUP AND SAUCER)</td>\n",
              "      <td>0.039331</td>\n",
              "      <td>0.053541</td>\n",
              "      <td>0.030547</td>\n",
              "      <td>0.776671</td>\n",
              "      <td>14.505982</td>\n",
              "      <td>0.028441</td>\n",
              "      <td>4.237964</td>\n",
              "    </tr>\n",
              "    <tr>\n",
              "      <th>4</th>\n",
              "      <td>(GREEN REGENCY TEACUP AND SAUCER)</td>\n",
              "      <td>(ROSES REGENCY TEACUP AND SAUCER)</td>\n",
              "      <td>0.052255</td>\n",
              "      <td>0.053541</td>\n",
              "      <td>0.039219</td>\n",
              "      <td>0.750535</td>\n",
              "      <td>14.017835</td>\n",
              "      <td>0.036421</td>\n",
              "      <td>3.793958</td>\n",
              "    </tr>\n",
              "    <tr>\n",
              "      <th>5</th>\n",
              "      <td>(ROSES REGENCY TEACUP AND SAUCER)</td>\n",
              "      <td>(GREEN REGENCY TEACUP AND SAUCER)</td>\n",
              "      <td>0.053541</td>\n",
              "      <td>0.052255</td>\n",
              "      <td>0.039219</td>\n",
              "      <td>0.732497</td>\n",
              "      <td>14.017835</td>\n",
              "      <td>0.036421</td>\n",
              "      <td>3.542939</td>\n",
              "    </tr>\n",
              "    <tr>\n",
              "      <th>1</th>\n",
              "      <td>(GARDENERS KNEELING PAD CUP OF TEA)</td>\n",
              "      <td>(GARDENERS KNEELING PAD KEEP CALM)</td>\n",
              "      <td>0.041960</td>\n",
              "      <td>0.050241</td>\n",
              "      <td>0.030267</td>\n",
              "      <td>0.721333</td>\n",
              "      <td>14.357586</td>\n",
              "      <td>0.028159</td>\n",
              "      <td>3.408228</td>\n",
              "    </tr>\n",
              "    <tr>\n",
              "      <th>7</th>\n",
              "      <td>(JUMBO BAG PINK POLKADOT)</td>\n",
              "      <td>(JUMBO BAG RED RETROSPOT)</td>\n",
              "      <td>0.064843</td>\n",
              "      <td>0.108426</td>\n",
              "      <td>0.043919</td>\n",
              "      <td>0.677308</td>\n",
              "      <td>6.246751</td>\n",
              "      <td>0.036888</td>\n",
              "      <td>2.762927</td>\n",
              "    </tr>\n",
              "    <tr>\n",
              "      <th>9</th>\n",
              "      <td>(PAPER CHAIN KIT VINTAGE CHRISTMAS)</td>\n",
              "      <td>(PAPER CHAIN KIT 50'S CHRISTMAS)</td>\n",
              "      <td>0.044758</td>\n",
              "      <td>0.062941</td>\n",
              "      <td>0.030100</td>\n",
              "      <td>0.672500</td>\n",
              "      <td>10.684680</td>\n",
              "      <td>0.027283</td>\n",
              "      <td>2.861250</td>\n",
              "    </tr>\n",
              "    <tr>\n",
              "      <th>0</th>\n",
              "      <td>(ALARM CLOCK BAKELIKE GREEN)</td>\n",
              "      <td>(ALARM CLOCK BAKELIKE RED)</td>\n",
              "      <td>0.049010</td>\n",
              "      <td>0.052031</td>\n",
              "      <td>0.031498</td>\n",
              "      <td>0.642694</td>\n",
              "      <td>12.352165</td>\n",
              "      <td>0.028948</td>\n",
              "      <td>2.653102</td>\n",
              "    </tr>\n",
              "    <tr>\n",
              "      <th>6</th>\n",
              "      <td>(JUMBO  BAG BAROQUE BLACK WHITE)</td>\n",
              "      <td>(JUMBO BAG RED RETROSPOT)</td>\n",
              "      <td>0.050912</td>\n",
              "      <td>0.108426</td>\n",
              "      <td>0.031890</td>\n",
              "      <td>0.626374</td>\n",
              "      <td>5.776988</td>\n",
              "      <td>0.026370</td>\n",
              "      <td>2.386273</td>\n",
              "    </tr>\n",
              "    <tr>\n",
              "      <th>3</th>\n",
              "      <td>(GREEN REGENCY TEACUP AND SAUCER)</td>\n",
              "      <td>(PINK REGENCY TEACUP AND SAUCER)</td>\n",
              "      <td>0.052255</td>\n",
              "      <td>0.039331</td>\n",
              "      <td>0.032282</td>\n",
              "      <td>0.617773</td>\n",
              "      <td>15.707077</td>\n",
              "      <td>0.030226</td>\n",
              "      <td>2.513347</td>\n",
              "    </tr>\n",
              "  </tbody>\n",
              "</table>\n",
              "</div>\n",
              "      <button class=\"colab-df-convert\" onclick=\"convertToInteractive('df-cecc995b-a5fc-4558-9f82-0bf2d8e56f68')\"\n",
              "              title=\"Convert this dataframe to an interactive table.\"\n",
              "              style=\"display:none;\">\n",
              "        \n",
              "  <svg xmlns=\"http://www.w3.org/2000/svg\" height=\"24px\"viewBox=\"0 0 24 24\"\n",
              "       width=\"24px\">\n",
              "    <path d=\"M0 0h24v24H0V0z\" fill=\"none\"/>\n",
              "    <path d=\"M18.56 5.44l.94 2.06.94-2.06 2.06-.94-2.06-.94-.94-2.06-.94 2.06-2.06.94zm-11 1L8.5 8.5l.94-2.06 2.06-.94-2.06-.94L8.5 2.5l-.94 2.06-2.06.94zm10 10l.94 2.06.94-2.06 2.06-.94-2.06-.94-.94-2.06-.94 2.06-2.06.94z\"/><path d=\"M17.41 7.96l-1.37-1.37c-.4-.4-.92-.59-1.43-.59-.52 0-1.04.2-1.43.59L10.3 9.45l-7.72 7.72c-.78.78-.78 2.05 0 2.83L4 21.41c.39.39.9.59 1.41.59.51 0 1.02-.2 1.41-.59l7.78-7.78 2.81-2.81c.8-.78.8-2.07 0-2.86zM5.41 20L4 18.59l7.72-7.72 1.47 1.35L5.41 20z\"/>\n",
              "  </svg>\n",
              "      </button>\n",
              "      \n",
              "  <style>\n",
              "    .colab-df-container {\n",
              "      display:flex;\n",
              "      flex-wrap:wrap;\n",
              "      gap: 12px;\n",
              "    }\n",
              "\n",
              "    .colab-df-convert {\n",
              "      background-color: #E8F0FE;\n",
              "      border: none;\n",
              "      border-radius: 50%;\n",
              "      cursor: pointer;\n",
              "      display: none;\n",
              "      fill: #1967D2;\n",
              "      height: 32px;\n",
              "      padding: 0 0 0 0;\n",
              "      width: 32px;\n",
              "    }\n",
              "\n",
              "    .colab-df-convert:hover {\n",
              "      background-color: #E2EBFA;\n",
              "      box-shadow: 0px 1px 2px rgba(60, 64, 67, 0.3), 0px 1px 3px 1px rgba(60, 64, 67, 0.15);\n",
              "      fill: #174EA6;\n",
              "    }\n",
              "\n",
              "    [theme=dark] .colab-df-convert {\n",
              "      background-color: #3B4455;\n",
              "      fill: #D2E3FC;\n",
              "    }\n",
              "\n",
              "    [theme=dark] .colab-df-convert:hover {\n",
              "      background-color: #434B5C;\n",
              "      box-shadow: 0px 1px 3px 1px rgba(0, 0, 0, 0.15);\n",
              "      filter: drop-shadow(0px 1px 2px rgba(0, 0, 0, 0.3));\n",
              "      fill: #FFFFFF;\n",
              "    }\n",
              "  </style>\n",
              "\n",
              "      <script>\n",
              "        const buttonEl =\n",
              "          document.querySelector('#df-cecc995b-a5fc-4558-9f82-0bf2d8e56f68 button.colab-df-convert');\n",
              "        buttonEl.style.display =\n",
              "          google.colab.kernel.accessAllowed ? 'block' : 'none';\n",
              "\n",
              "        async function convertToInteractive(key) {\n",
              "          const element = document.querySelector('#df-cecc995b-a5fc-4558-9f82-0bf2d8e56f68');\n",
              "          const dataTable =\n",
              "            await google.colab.kernel.invokeFunction('convertToInteractive',\n",
              "                                                     [key], {});\n",
              "          if (!dataTable) return;\n",
              "\n",
              "          const docLinkHtml = 'Like what you see? Visit the ' +\n",
              "            '<a target=\"_blank\" href=https://colab.research.google.com/notebooks/data_table.ipynb>data table notebook</a>'\n",
              "            + ' to learn more about interactive tables.';\n",
              "          element.innerHTML = '';\n",
              "          dataTable['output_type'] = 'display_data';\n",
              "          await google.colab.output.renderOutput(dataTable, element);\n",
              "          const docLink = document.createElement('div');\n",
              "          docLink.innerHTML = docLinkHtml;\n",
              "          element.appendChild(docLink);\n",
              "        }\n",
              "      </script>\n",
              "    </div>\n",
              "  </div>\n",
              "  "
            ]
          },
          "metadata": {},
          "execution_count": 18
        }
      ]
    },
    {
      "cell_type": "markdown",
      "source": [
        "## 6. Plot confidence and support for all the sorted rules found"
      ],
      "metadata": {
        "id": "mkl5svCNmtSM"
      }
    },
    {
      "cell_type": "code",
      "source": [
        "sorted_rules = rules.sort_values(by=['confidence','support'],ascending=False).reset_index(drop=True)\n",
        "sorted_rules[['confidence','support']].plot(title='Association Rules');"
      ],
      "metadata": {
        "colab": {
          "base_uri": "https://localhost:8080/",
          "height": 281
        },
        "id": "wXKUtHz8mzzB",
        "outputId": "127cd677-f525-4ec9-cb44-6fbe3725bb4c"
      },
      "execution_count": 19,
      "outputs": [
        {
          "output_type": "display_data",
          "data": {
            "text/plain": [
              "<Figure size 432x288 with 1 Axes>"
            ],
            "image/png": "[encoded data removed]"
          },
          "metadata": {
            "needs_background": "light"
          }
        }
      ]
    },
    {
      "cell_type": "markdown",
      "source": [
        "## 7.  Scatter plot the rules by confidence and support, labelling the points with the index value of the corresponding rule"
      ],
      "metadata": {
        "id": "BVQY6dNnnHEk"
      }
    },
    {
      "cell_type": "code",
      "source": [
        "fig = sorted_rules.plot.scatter(x = 'confidence', y = 'support', title ='Association Rules');"
      ],
      "metadata": {
        "colab": {
          "base_uri": "https://localhost:8080/",
          "height": 295
        },
        "id": "v-JSB3UznMvC",
        "outputId": "48a24695-e864-4762-f3b0-4e9fe339de76"
      },
      "execution_count": 20,
      "outputs": [
        {
          "output_type": "display_data",
          "data": {
            "text/plain": [
              "<Figure size 432x288 with 1 Axes>"
            ],
            "image/png": "[encoded data removed]"
          },
          "metadata": {
            "needs_background": "light"
          }
        }
      ]
    }
  ]
}